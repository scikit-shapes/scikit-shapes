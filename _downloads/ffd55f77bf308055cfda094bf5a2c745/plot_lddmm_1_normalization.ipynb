{
  "cells": [
    {
      "cell_type": "code",
      "execution_count": null,
      "metadata": {
        "collapsed": false
      },
      "outputs": [],
      "source": [
        "%matplotlib inline"
      ]
    },
    {
      "cell_type": "markdown",
      "metadata": {},
      "source": [
        "\n# LDDMM with normalized kernel\n\nThis notebook illustrates the interest of normalizing the cometric in the LDDMM\nmodel. We consider the registration of two spheres that differ by a translation\nfirst, and then a more complex registration task with a translation and a deformation.\n\nWithout normalization, the carpooling artifact occurs: the sphere\nis contracted, then translated and finally expanded. in this situation, event if\nthe morphed shape matches the target, the intermediate shapes are not meaningful\nand the extrapolation is not reliable.\n\nNormalizing the kernel adds regularization to the morphing, leanding to prevention\nof the carpooling artifact and improvement of the extrapolation to some extent.\n\nOptions for normalization are:\n\n* \"rows\": normalize the rows of the kernel\n* \"columns\": normalize the columns of the kernel\n* \"both\": normalize both the rows and the columns of the kernel (for quare kernels, algorithm 5.7 in https://www.jeanfeydy.com/geometric_data_analysis.pdf)\n\nFurther explanation can be found in the p177 and onwards of https://www.jeanfeydy.com/geometric_data_analysis.pdf.\n"
      ]
    },
    {
      "cell_type": "code",
      "execution_count": null,
      "metadata": {
        "collapsed": false
      },
      "outputs": [],
      "source": [
        "from time import time\n\nimport pyvista as pv\nimport torch\n\nimport skshapes as sks\n\n# sphinx_gallery_thumbnail_number = 9"
      ]
    },
    {
      "cell_type": "markdown",
      "metadata": {},
      "source": [
        "Load data\n\n"
      ]
    },
    {
      "cell_type": "code",
      "execution_count": null,
      "metadata": {
        "collapsed": false
      },
      "outputs": [],
      "source": [
        "plot_kwargs = {\n    \"smooth_shading\": True,\n    \"pbr\": True,\n    \"metallic\": 0.7,\n    \"roughness\": 0.6,\n}\n\ncpos = [\n    (1.6256104086078755, -9.701422233882411, 1.3012755902068773),\n    (1.191160019984921, 0.01901107976782581, -0.0052552929581526076),\n    (0.006053690112347382, 0.13347614338229413, 0.9910335372649167),\n]\n\nsource = sks.Sphere()\ntarget = sks.Sphere()\n\ndecimation = sks.Decimation(n_points=200)\nsource = decimation.fit_transform(source)\ntarget = decimation.transform(target)\n\ntarget.points = target.points + torch.tensor([2, 0.0, 0.0])\n\nplotter = pv.Plotter()\nplotter.add_mesh(source.to_pyvista(), color=\"teal\", opacity=0.8, **plot_kwargs)\nplotter.add_mesh(target.to_pyvista(), color=\"red\", opacity=0.8, **plot_kwargs)\nplotter.camera_position = cpos\nplotter.show()"
      ]
    },
    {
      "cell_type": "markdown",
      "metadata": {},
      "source": [
        "## LDDM without normalization\n\n"
      ]
    },
    {
      "cell_type": "code",
      "execution_count": null,
      "metadata": {
        "collapsed": false
      },
      "outputs": [],
      "source": [
        "model = sks.ExtrinsicDeformation(\n    n_steps=4,\n    kernel=\"gaussian\",\n    scale=0.3,\n)\n\nloss = sks.L2Loss()\n\ntask = sks.Registration(\n    model=model,\n    loss=loss,\n    optimizer=sks.LBFGS(),\n    n_iter=3,\n    regularization_weight=1e-1,\n    verbose=True,\n)\n\nstart = time()\ntask.fit(source=source, target=target)\nprint(\"Elapsed time: \", time() - start)\npath = task.path_\n\nplotter = pv.Plotter()\nplotter.add_mesh(source.to_pyvista(), color=\"teal\", opacity=0.2, **plot_kwargs)\nplotter.add_mesh(target.to_pyvista(), color=\"red\", opacity=0.2, **plot_kwargs)\nfor i in range(len(path)):\n    plotter.add_mesh(\n        path[i].to_pyvista(), color=\"tan\", opacity=0.8, **plot_kwargs\n    )\nplotter.camera_position = cpos\nplotter.show()"
      ]
    },
    {
      "cell_type": "markdown",
      "metadata": {},
      "source": [
        "Extrapolation\n\n"
      ]
    },
    {
      "cell_type": "code",
      "execution_count": null,
      "metadata": {
        "collapsed": false
      },
      "outputs": [],
      "source": [
        "back = model.morph(\n    shape=source,\n    parameter=task.parameter_,\n    final_time=-1.0,\n    return_path=True,\n).path\n\nmodel.n_steps = 8\nforward = model.morph(\n    shape=source,\n    parameter=task.parameter_,\n    final_time=2.0,\n    return_path=True,\n).path\n\npath = back[::-1] + forward[1:]\n\nplotter = pv.Plotter()\nplotter.open_gif(\"lddmm_no_normalization.gif\", fps=4)\nfor i in range(len(path)):\n    plotter.clear_actors()\n    plotter.add_mesh(\n        source.to_pyvista(), color=\"teal\", opacity=0.2, **plot_kwargs\n    )\n    plotter.add_mesh(\n        target.to_pyvista(), color=\"red\", opacity=0.2, **plot_kwargs\n    )\n    plotter.add_mesh(\n        path[i].to_pyvista(), color=\"tan\", opacity=0.8, **plot_kwargs\n    )\n    plotter.camera_position = cpos\n    plotter.write_frame()\nplotter.close()"
      ]
    },
    {
      "cell_type": "markdown",
      "metadata": {},
      "source": [
        "## Normalizing the rows of the kernel\n\n"
      ]
    },
    {
      "cell_type": "code",
      "execution_count": null,
      "metadata": {
        "collapsed": false
      },
      "outputs": [],
      "source": [
        "model_norm = sks.ExtrinsicDeformation(\n    n_steps=4,\n    kernel=\"gaussian\",\n    scale=0.3,\n    normalization=\"rows\",\n)\n\ntask_norm = sks.Registration(\n    model=model_norm,\n    loss=loss,\n    optimizer=sks.LBFGS(),\n    n_iter=1,\n    regularization_weight=0.0,\n    verbose=True,\n)\n\nstart = time()\ntask_norm.fit(source=source, target=target)\nprint(\"Elapsed time: \", time() - start)\npath = task_norm.path_\n\nplotter = pv.Plotter()\nplotter.add_mesh(source.to_pyvista(), color=\"teal\", opacity=0.2, **plot_kwargs)\nplotter.add_mesh(target.to_pyvista(), color=\"red\", opacity=0.2, **plot_kwargs)\nfor i in range(len(path)):\n    plotter.add_mesh(\n        path[i].to_pyvista(), color=\"tan\", opacity=0.8, **plot_kwargs\n    )\nplotter.camera_position = cpos\nplotter.show()"
      ]
    },
    {
      "cell_type": "markdown",
      "metadata": {},
      "source": [
        "Extrapolation\n\n"
      ]
    },
    {
      "cell_type": "code",
      "execution_count": null,
      "metadata": {
        "collapsed": false
      },
      "outputs": [],
      "source": [
        "back = model_norm.morph(\n    shape=source,\n    parameter=task_norm.parameter_,\n    final_time=-1.0,\n    return_path=True,\n).path\n\nmodel_norm.n_steps = 8\nforward = model_norm.morph(\n    shape=source,\n    parameter=task_norm.parameter_,\n    final_time=2.0,\n    return_path=True,\n).path\n\npath = back[::-1] + forward[1:]\n\nplotter = pv.Plotter()\nplotter.open_gif(\"lddmm_normalization.gif\", fps=4)\nfor i in range(len(path)):\n    plotter.clear_actors()\n    plotter.add_mesh(\n        source.to_pyvista(), color=\"teal\", opacity=0.2, **plot_kwargs\n    )\n    plotter.add_mesh(\n        target.to_pyvista(), color=\"red\", opacity=0.2, **plot_kwargs\n    )\n    plotter.add_mesh(\n        path[i].to_pyvista(), color=\"tan\", opacity=0.8, **plot_kwargs\n    )\n    plotter.camera_position = cpos\n    plotter.write_frame()\nplotter.close()"
      ]
    },
    {
      "cell_type": "markdown",
      "metadata": {},
      "source": [
        "## Normalizing both rows and columns of the kernel\n\n"
      ]
    },
    {
      "cell_type": "code",
      "execution_count": null,
      "metadata": {
        "collapsed": false
      },
      "outputs": [],
      "source": [
        "model_norm = sks.ExtrinsicDeformation(\n    n_steps=4,\n    kernel=\"gaussian\",\n    scale=0.3,\n    normalization=\"both\",\n)\n\ntask_norm = sks.Registration(\n    model=model_norm,\n    loss=loss,\n    optimizer=sks.LBFGS(),\n    n_iter=1,\n    regularization_weight=0.0,\n    verbose=True,\n)\n\nstart = time()\ntask_norm.fit(source=source, target=target)\nelapsed_time = time() - start\npath = task_norm.path_\n\nplotter = pv.Plotter()\nplotter.add_mesh(source.to_pyvista(), color=\"teal\", opacity=0.2, **plot_kwargs)\nplotter.add_mesh(target.to_pyvista(), color=\"red\", opacity=0.2, **plot_kwargs)\nfor i in range(len(path)):\n    plotter.add_mesh(\n        path[i].to_pyvista(), color=\"tan\", opacity=0.8, **plot_kwargs\n    )\nplotter.camera_position = cpos\nplotter.show()"
      ]
    },
    {
      "cell_type": "markdown",
      "metadata": {},
      "source": [
        "Extrapolation\n\n"
      ]
    },
    {
      "cell_type": "code",
      "execution_count": null,
      "metadata": {
        "collapsed": false
      },
      "outputs": [],
      "source": [
        "back = model_norm.morph(\n    shape=source,\n    parameter=task_norm.parameter_,\n    final_time=-1.0,\n    return_path=True,\n).path\n\nmodel_norm.n_steps = 8\nforward = model_norm.morph(\n    shape=source,\n    parameter=task_norm.parameter_,\n    final_time=2.0,\n    return_path=True,\n).path\n\npath = back[::-1] + forward[1:]\n\nplotter = pv.Plotter()\nplotter.open_gif(\"lddmm_normalization.gif\", fps=4)\nfor i in range(len(path)):\n    plotter.clear_actors()\n    plotter.add_mesh(\n        source.to_pyvista(), color=\"teal\", opacity=0.2, **plot_kwargs\n    )\n    plotter.add_mesh(\n        target.to_pyvista(), color=\"red\", opacity=0.2, **plot_kwargs\n    )\n    plotter.add_mesh(\n        path[i].to_pyvista(), color=\"tan\", opacity=0.8, **plot_kwargs\n    )\n    plotter.camera_position = cpos\n    plotter.write_frame()\nplotter.close()"
      ]
    },
    {
      "cell_type": "markdown",
      "metadata": {},
      "source": [
        "## Example with a more complex shape\n\n"
      ]
    },
    {
      "cell_type": "code",
      "execution_count": null,
      "metadata": {
        "collapsed": false
      },
      "outputs": [],
      "source": [
        "n_steps = 3\n\nplot_kwargs = {\n    \"smooth_shading\": True,\n    \"pbr\": True,\n    \"metallic\": 0.7,\n    \"roughness\": 0.6,\n}\n\ncpos = [\n    (3.6401575998373183, -1.183408993703478, 1.0915912440258628),\n    (0.7463583722710609, 0.762569822371006, 0.48035204596817493),\n    (-0.1745415166347431, 0.04933887578777028, 0.9834129012306287),\n]\n\n# 5 - 8\nsource = sks.PolyData(\"../test_data/cactus/cactus3.ply\")\ntarget = sks.PolyData(\"../test_data/cactus/cactus11.ply\")\ntarget.points += torch.Tensor([0.5, 0.5, 0])\n\ndecimation = sks.Decimation(n_points=500)\nsource = decimation.fit_transform(source)\ntarget = decimation.transform(target)\n\n\nmodel = sks.ExtrinsicDeformation(\n    n_steps=n_steps,\n    kernel=\"gaussian\",\n    scale=0.1,\n    normalization=\"both\",\n)\n\nloss = sks.L2Loss()"
      ]
    },
    {
      "cell_type": "markdown",
      "metadata": {},
      "source": [
        "## Interpolation\n\n"
      ]
    },
    {
      "cell_type": "code",
      "execution_count": null,
      "metadata": {
        "collapsed": false
      },
      "outputs": [],
      "source": [
        "task = sks.Registration(\n    model=model,\n    loss=loss,\n    optimizer=sks.LBFGS(),\n    n_iter=1,\n    verbose=True,\n    regularization_weight=0.001,\n)\n\nstart = time()\ntask.fit(source=source, target=target)\nprint(\"Elapsed time: \", time() - start)\n\npath = task.path_\n\nplotter = pv.Plotter()\nfor frame in path:\n    plotter.add_mesh(\n        frame.to_pyvista(), color=\"tan\", opacity=0.3, **plot_kwargs\n    )\nplotter.add_mesh(source.to_pyvista(), color=\"teal\", opacity=0.5, **plot_kwargs)\nplotter.add_mesh(target.to_pyvista(), color=\"red\", opacity=0.5, **plot_kwargs)\nplotter.camera_position = cpos\nplotter.show()"
      ]
    },
    {
      "cell_type": "markdown",
      "metadata": {},
      "source": [
        "## Extrapolation\n\n"
      ]
    },
    {
      "cell_type": "code",
      "execution_count": null,
      "metadata": {
        "collapsed": false
      },
      "outputs": [],
      "source": [
        "back = model.morph(\n    shape=source,\n    parameter=task.parameter_,\n    return_path=True,\n    return_regularization=True,\n    final_time=-1.0,\n).path\n\nmodel.n_steps = 2 * n_steps\n\nforward = model.morph(\n    shape=source,\n    parameter=task.parameter_,\n    return_path=True,\n    return_regularization=True,\n    final_time=2.0,\n).path\n\npath = back[::-1] + forward[1:]\n\nplotter = pv.Plotter()\nfor frame in path:\n    plotter.add_mesh(\n        frame.to_pyvista(), color=\"tan\", opacity=0.3, **plot_kwargs\n    )\nplotter.add_mesh(source.to_pyvista(), color=\"teal\", opacity=0.5, **plot_kwargs)\nplotter.add_mesh(target.to_pyvista(), color=\"red\", opacity=0.5, **plot_kwargs)\nplotter.camera_position = cpos\nplotter.show()\n\nprint(plotter.camera_position)"
      ]
    }
  ],
  "metadata": {
    "kernelspec": {
      "display_name": "Python 3",
      "language": "python",
      "name": "python3"
    },
    "language_info": {
      "codemirror_mode": {
        "name": "ipython",
        "version": 3
      },
      "file_extension": ".py",
      "mimetype": "text/x-python",
      "name": "python",
      "nbconvert_exporter": "python",
      "pygments_lexer": "ipython3",
      "version": "3.11.11"
    }
  },
  "nbformat": 4,
  "nbformat_minor": 0
}