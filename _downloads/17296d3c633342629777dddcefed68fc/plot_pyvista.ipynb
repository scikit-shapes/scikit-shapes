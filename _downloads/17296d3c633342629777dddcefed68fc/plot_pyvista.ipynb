{
  "cells": [
    {
      "cell_type": "code",
      "execution_count": null,
      "metadata": {
        "collapsed": false
      },
      "outputs": [],
      "source": [
        "%matplotlib inline"
      ]
    },
    {
      "cell_type": "markdown",
      "metadata": {},
      "source": [
        "\n# PolyData conversion from and to PyVista or Vedo\n\n[PyVista](https://docs.pyvista.org/version/stable/) is a Python library for\n3D visualization and mesh manipulation. It is a python wrapper of the\n[VTK](https://vtk.org/) library. PyVista is used in scikit-shapes as a backend\nto load and save meshes in various formats.\n\n[Vedo](https://vedo.embl.es/) is another Python library for 3D visualization.\nIt is also a python wrapper of the VTK library. It is used in scikit-shapes for\ninteractive visualization.\n\nScikit-shapes [PolyData](skshsapes.data.polydata.PolyData) can be exported to\nPyVista PolyData or Vedo Mesh, and vice versa. This allows to leverage the\nvisualization and mesh manipulation capabilities of both libraries.\n\nIn addition to the mesh geometry, the signals and landmarks are encoded in the\nPyVista or Vedo mesh, and are preserved when the mesh is loaded back from PyVista.\n"
      ]
    },
    {
      "cell_type": "markdown",
      "metadata": {},
      "source": [
        "## Load a mesh from PyVista's examples\n\nWe load a quadrangulated cow mesh from PyVista. As scikit-shapes meshes are\ntriangular, an automatic triangulation is performed when importing the mesh.\n\n"
      ]
    },
    {
      "cell_type": "code",
      "execution_count": null,
      "metadata": {
        "collapsed": false
      },
      "outputs": [],
      "source": [
        "import pyvista as pv\nimport torch\nfrom pyvista import examples\n\nimport skshapes as sks\n\nmesh_pyvista = examples.download_cow()\nmesh_sks = sks.PolyData(mesh_pyvista)\n\nassert mesh_pyvista.n_points == mesh_sks.n_points"
      ]
    },
    {
      "cell_type": "markdown",
      "metadata": {},
      "source": [
        "## Preservation of signals and landmarks\n\nThe methods `.to_pyvista()` and `.to_vedo()` allow to convert a `PolyData` object\nto a PyVista or Vedo mesh. The point data and landmarks are preserved during\nthe conversion: if the mesh is loaded back from PyVista or Vedo, the signals\nand landmarks are still there.\n\nThe following illustrates the preservation of signals and landmarks when\nconverting a `PolyData` object to PyVista and back.\n\n"
      ]
    },
    {
      "cell_type": "code",
      "execution_count": null,
      "metadata": {
        "collapsed": false
      },
      "outputs": [],
      "source": [
        "mesh_sks.point_data[\"signal\"] = mesh_sks.points[:, 0]\n# Now, export the mesh to PyVista\nmesh_pv2 = mesh_sks.to_pyvista()\n# The signal is transferred to the PyVista mesh as a point data array\n# with the same name and can be plotted\nmesh_pv2.plot(scalars=\"signal\", cpos=\"xy\")\n\n# Back to scikit-shapes, the signal is preserved\nmesh_sks_back = sks.PolyData(mesh_pv2)\nassert torch.allclose(\n    mesh_sks_back.point_data[\"signal\"], mesh_sks.point_data[\"signal\"]\n)\n\n\n# Set some landmarks\nlandmarks_indices = [0, 10, 154, 125, 1544, 187, 32, 252, 1214]\nmesh_sks.landmark_indices = landmarks_indices\n\n# Export to PyVista\nmesh_pv3 = mesh_sks.to_pyvista()\n\n# The landmarks are stored in the field data of the PyVista mesh\n# there can ba accessed as a 3D point cloud with the name \"landmark_points\"\nplotter = pv.Plotter()\nplotter.add_mesh(mesh_pv3, color=\"w\")\nplotter.add_points(\n    mesh_pv3.field_data[\"landmark_points\"],\n    color=\"r\",\n    point_size=10,\n    label=\"landmarks\",\n)\nplotter.add_legend()\nplotter.view_xy()\nplotter.show()\n\n# Back to scikit-shapes, the landmarks are preserved\nmesh_sks_back = sks.PolyData(mesh_pv3)\nassert torch.allclose(\n    mesh_sks_back.landmark_indices, mesh_sks.landmark_indices\n)"
      ]
    }
  ],
  "metadata": {
    "kernelspec": {
      "display_name": "Python 3",
      "language": "python",
      "name": "python3"
    },
    "language_info": {
      "codemirror_mode": {
        "name": "ipython",
        "version": 3
      },
      "file_extension": ".py",
      "mimetype": "text/x-python",
      "name": "python",
      "nbconvert_exporter": "python",
      "pygments_lexer": "ipython3",
      "version": "3.11.11"
    }
  },
  "nbformat": 4,
  "nbformat_minor": 0
}