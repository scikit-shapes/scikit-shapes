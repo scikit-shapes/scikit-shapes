{
  "cells": [
    {
      "cell_type": "code",
      "execution_count": null,
      "metadata": {
        "collapsed": false
      },
      "outputs": [],
      "source": [
        "%matplotlib inline"
      ]
    },
    {
      "cell_type": "markdown",
      "metadata": {},
      "source": [
        "\n\n# How to compute local geometric moments\n\nWe use the :meth:`~skshapes.PolyData.point_moments` method to compute local averages and covariance matrices. This is useful for estimating point normals and curvatures.\n"
      ]
    },
    {
      "cell_type": "markdown",
      "metadata": {},
      "source": [
        "First, we create a simple point cloud in 2D:\n\n\n"
      ]
    },
    {
      "cell_type": "code",
      "execution_count": null,
      "metadata": {
        "collapsed": false
      },
      "outputs": [],
      "source": [
        "import torch\nfrom matplotlib import pyplot as plt\n\nimport skshapes as sks\n\nn_points, dim = 3, 2\nshape = sks.PolyData(torch.rand(n_points, dim))\nprint(shape)"
      ]
    },
    {
      "cell_type": "markdown",
      "metadata": {},
      "source": [
        "The method :meth:`~skshapes.PolyData.point_neighborhoods` associates\nto each point $x_i$ in the shape a weight\ndistribution $\\nu_i(x)$ over the ambient space.\nTypically, this corresponds to a normalized Gaussian window at scale $\\sigma$.\nIf $\\mu(x)$ denotes the uniform distribution on the support of the shape, then:\n\n\\begin{align}\\nu_i(x) \\propto \\exp\\left(-\\frac{||x-x_i||^2}{2\\sigma^2}\\right) \\mu(x)\\end{align}\n\nThe method :meth:`~skshapes.PolyData.point_moments` takes as input the same\narguments, and returns a :class:`skshapes.features.Moments` object\nthat computes the moments of order 0, 1 and 2 of these distributions.\n\n"
      ]
    },
    {
      "cell_type": "code",
      "execution_count": null,
      "metadata": {
        "collapsed": false
      },
      "outputs": [],
      "source": [
        "moments = shape.point_moments(scale=0.5)"
      ]
    },
    {
      "cell_type": "markdown",
      "metadata": {},
      "source": [
        "The total mass $m_i$ of $\\nu_i$ is an estimate of the local point density:\n\n"
      ]
    },
    {
      "cell_type": "code",
      "execution_count": null,
      "metadata": {
        "collapsed": false
      },
      "outputs": [],
      "source": [
        "print(moments.masses)"
      ]
    },
    {
      "cell_type": "markdown",
      "metadata": {},
      "source": [
        "The local mean $\\overline{x}_i = \\mathbb{E}_{x\\sim \\nu_i}[x]$\nis a point in the vicinity of $x_i$:\n\n"
      ]
    },
    {
      "cell_type": "code",
      "execution_count": null,
      "metadata": {
        "collapsed": false
      },
      "outputs": [],
      "source": [
        "print(moments.means)"
      ]
    },
    {
      "cell_type": "markdown",
      "metadata": {},
      "source": [
        "The local covariance matrix\n$\\Sigma_i = \\mathbb{E}_{x\\sim \\nu_i}[(x-\\overline{x}_i)(x-\\overline{x}_i)^{\\intercal}]$\nis symmetric and positive semi-definite:\n\n"
      ]
    },
    {
      "cell_type": "code",
      "execution_count": null,
      "metadata": {
        "collapsed": false
      },
      "outputs": [],
      "source": [
        "print(moments.covariances)"
      ]
    },
    {
      "cell_type": "markdown",
      "metadata": {},
      "source": [
        "Its eigenvalues are non-negative and typically of order $\\sigma^2$:\n\n"
      ]
    },
    {
      "cell_type": "code",
      "execution_count": null,
      "metadata": {
        "collapsed": false
      },
      "outputs": [],
      "source": [
        "L = moments.covariance_eigenvalues\nprint(L)"
      ]
    },
    {
      "cell_type": "markdown",
      "metadata": {},
      "source": [
        "Its eigenvectors are orthogonal and represent the principal directions of\nthe local distribution of points:\n\n"
      ]
    },
    {
      "cell_type": "code",
      "execution_count": null,
      "metadata": {
        "collapsed": false
      },
      "outputs": [],
      "source": [
        "Q = moments.covariance_eigenvectors\nprint(Q)"
      ]
    },
    {
      "cell_type": "markdown",
      "metadata": {},
      "source": [
        "The eigenvectors are stored column-wise, and sorted by increasing eigenvalue:\n\n"
      ]
    },
    {
      "cell_type": "code",
      "execution_count": null,
      "metadata": {
        "collapsed": false
      },
      "outputs": [],
      "source": [
        "LQt = L.view(n_points, dim, 1) * Q.transpose(1, 2)\nQLQt = Q @ LQt\n\nprint(f\"Reconstruction error: {(QLQt - moments.covariances).abs().max():.2e}\")"
      ]
    },
    {
      "cell_type": "markdown",
      "metadata": {},
      "source": [
        "<div class=\"alert alert-info\"><h4>Note</h4><p>These attributes are computed when required, and cached in memory.</p></div>\n\n## On a 2D curve\n\nGoing further, let's consider a sampled curve in 2D:\n\n"
      ]
    },
    {
      "cell_type": "code",
      "execution_count": null,
      "metadata": {
        "collapsed": false
      },
      "outputs": [],
      "source": [
        "shape = sks.doc.wiggly_curve(n_points=32, dim=2)\nprint(shape)"
      ]
    },
    {
      "cell_type": "markdown",
      "metadata": {},
      "source": [
        "Intuitively, computing local moments\n$m_i$ of order 0,\n$\\overline{x}_i$ of order 1\nand $\\Sigma_i$ of order 2 is equivalent to\nfitting a Gaussian distribution to each local neighborhood $\\nu_i$.\nIn dimension $D=2$ or $D=3$, if $\\lambda_{\\mathbb{R}^D}$ denotes\nthe Lebesgue measure on the ambient space (i.e. the area or the volume), then:\n\n\\begin{align}\\text{d}\\nu_i(x) ~&\\simeq~ m_i\\,\\text{d}\\mathcal{N}(\\overline{x}_i, \\Sigma_i)(x)  \\\\\n  &= ~\\frac{m_i}{(2\\pi\\sigma^2)^{D/2} } \\, \\exp\\left[-\\tfrac{1}{2}(x-\\overline{x}_i)^{\\intercal}\\Sigma_i^{-1}(x-\\overline{x}_i)\\right]\\, \\text{d}\\lambda_{\\mathbb{R}^D}(x)~\\end{align}\n\nWe visualize these descriptors by drawing ellipses centered at $\\overline{x}_i$,\ncolored by the local densities $m_i$ and oriented in $\\mathbb{R}^2$ or $\\mathbb{R}^3$\nwith axes that are aligned with the eigenvectors of $\\Sigma_i$ and\nwhose lengths are proportional to the square root of its eigenvalues:\n\n"
      ]
    },
    {
      "cell_type": "code",
      "execution_count": null,
      "metadata": {
        "collapsed": false
      },
      "outputs": [],
      "source": [
        "plt.figure(figsize=(12, 10))\n\nfor i, sigma in enumerate([0.1, 0.2, 0.5, 1.0]):\n    moments = shape.point_moments(scale=sigma)\n\n    # Plot the ellipses\n    ax = plt.subplot(2, 2, i + 1)\n    ax.set_title(f\"Moments at scale = {sigma:.1f}\")\n    sks.doc.display_covariances(shape.points, moments)\n\nplt.tight_layout()"
      ]
    },
    {
      "cell_type": "markdown",
      "metadata": {},
      "source": [
        "As evidenced here, :meth:`~skshapes.PolyData.point_moments` describes the local\nshape context at scale $\\sigma$. We use it to compute point normals and\ncurvatures that are robust to noise and sampling artifacts.\n\n## On a 3D surface\n\nWe can perform the same analysis on a 3D surface:\n\n"
      ]
    },
    {
      "cell_type": "code",
      "execution_count": null,
      "metadata": {
        "collapsed": false
      },
      "outputs": [],
      "source": [
        "import pyvista as pv\n\nshape = (\n    sks.PolyData(pv.examples.download_bunny())\n    .resample(n_points=5000)\n    .normalize()\n)\nprint(shape)"
      ]
    },
    {
      "cell_type": "markdown",
      "metadata": {},
      "source": [
        "As expected, the point moments of order 1 and 2 now refer to 3D vectors and matrices:\n\n"
      ]
    },
    {
      "cell_type": "code",
      "execution_count": null,
      "metadata": {
        "collapsed": false
      },
      "outputs": [],
      "source": [
        "moments = shape.point_moments(scale=0.05)\nprint(\"moments.masses:     \", moments.masses.shape)\nprint(\"moments.means:      \", moments.means.shape)\nprint(\"moments.covariances:\", moments.covariances.shape)"
      ]
    },
    {
      "cell_type": "markdown",
      "metadata": {},
      "source": [
        "We visualize the ellipsoids on a subset of our full point cloud:\n\n"
      ]
    },
    {
      "cell_type": "code",
      "execution_count": null,
      "metadata": {
        "collapsed": false
      },
      "outputs": [],
      "source": [
        "landmark_indices = list(range(0, shape.n_points, 50))\n\npl = pv.Plotter()\nsks.doc.display(plotter=pl, shape=shape, opacity=0.5)\nsks.doc.display_covariances(\n    shape.points, moments, landmark_indices=landmark_indices, plotter=pl\n)\npl.show()"
      ]
    },
    {
      "cell_type": "markdown",
      "metadata": {},
      "source": [
        "Using the covariance eigenvalues $\\lambda_1 \\leqslant \\lambda_2 \\leqslant \\lambda_3$,\nwe can compute simple shape descriptors such as the plateness\nwhich is equal to 0 if the local ellipsoid is a sphere and 1 if it is a 2D disk:\n\n\\begin{align}\\text{plateness} = 1 - \\frac{\\lambda_1}{\\sqrt{\\lambda_2\\lambda_3}}~.\\end{align}\n\n"
      ]
    },
    {
      "cell_type": "code",
      "execution_count": null,
      "metadata": {
        "collapsed": false
      },
      "outputs": [],
      "source": [
        "scales = [0.05, 0.1, 0.15, 0.2]\n\npl = pv.Plotter(shape=(2, 2))\nfor i, scale in enumerate(scales):\n    moments = shape.point_moments(scale=scale)\n    eigs = moments.covariance_eigenvalues\n    shape.point_data[f\"plateness_{i}\"] = (\n        1 - eigs[:, 0] / (eigs[:, 1] * eigs[:, 2]).sqrt()\n    )\n\n    pl.subplot(i // 2, i % 2)\n    sks.doc.display(\n        plotter=pl,\n        shape=shape,\n        scalars=f\"plateness_{i}\",\n        scalar_bar=True,\n        smooth=1,\n        clim=(0, 1),\n        title=f\"Plateness at scale {scale:.2f}\",\n    )\npl.show()"
      ]
    },
    {
      "cell_type": "markdown",
      "metadata": {},
      "source": [
        "Likewise, we can compute the tubeness, which is equal to 0 if the local ellipsoid is\na sphere or a disk, and 1 if it is a 1D segment:\n\n\\begin{align}\\text{tubeness} = 1 - \\frac{\\lambda_2}{\\lambda_3}~.\\end{align}\n\n"
      ]
    },
    {
      "cell_type": "code",
      "execution_count": null,
      "metadata": {
        "collapsed": false
      },
      "outputs": [],
      "source": [
        "pl = pv.Plotter(shape=(2, 2))\nfor i, scale in enumerate(scales):\n    moments = shape.point_moments(scale=scale)\n    eigs = moments.covariance_eigenvalues\n    shape.point_data[f\"tubeness_{i}\"] = 1 - (eigs[:, 1] / eigs[:, 2])\n\n    pl.subplot(i // 2, i % 2)\n    sks.doc.display(\n        plotter=pl,\n        shape=shape,\n        scalars=f\"tubeness_{i}\",\n        scalar_bar=True,\n        smooth=1,\n        clim=(0, 1),\n        title=f\"Tubeness at scale {scale:.2f}\",\n    )\npl.show()"
      ]
    }
  ],
  "metadata": {
    "kernelspec": {
      "display_name": "Python 3",
      "language": "python",
      "name": "python3"
    },
    "language_info": {
      "codemirror_mode": {
        "name": "ipython",
        "version": 3
      },
      "file_extension": ".py",
      "mimetype": "text/x-python",
      "name": "python",
      "nbconvert_exporter": "python",
      "pygments_lexer": "ipython3",
      "version": "3.11.11"
    }
  },
  "nbformat": 4,
  "nbformat_minor": 0
}