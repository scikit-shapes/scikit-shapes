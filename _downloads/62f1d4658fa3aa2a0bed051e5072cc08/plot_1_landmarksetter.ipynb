{
  "cells": [
    {
      "cell_type": "code",
      "execution_count": null,
      "metadata": {
        "collapsed": false
      },
      "outputs": [],
      "source": [
        "%matplotlib inline"
      ]
    },
    {
      "cell_type": "markdown",
      "metadata": {},
      "source": [
        "\n# Set landmarks\n\nLandmarks can be set manually or using the landmark setter.\n"
      ]
    },
    {
      "cell_type": "code",
      "execution_count": null,
      "metadata": {
        "collapsed": false
      },
      "outputs": [],
      "source": [
        "import pyvista as pv\nfrom pyvista import examples\n\nimport skshapes as sks\n\n# sphinx_gallery_thumbnail_path = 'source/images/landmarks_skull.gif'"
      ]
    },
    {
      "cell_type": "markdown",
      "metadata": {},
      "source": [
        "LandmarkSetter can be used to set landmarks interactively on a mesh.\n\n<img src=\"file://../../images/landmarks_skull.gif\">\n\n"
      ]
    },
    {
      "cell_type": "code",
      "execution_count": null,
      "metadata": {
        "collapsed": false
      },
      "outputs": [],
      "source": [
        "filename = \"../test_data/skulls/skull_erectus.vtk\"\nshape = sks.PolyData(filename)\n\nif not pv.BUILDING_GALLERY:\n    app = sks.LandmarkSetter(shape)\n    app.start()\nelse:\n    shape.landmark_indices = [95, 114, 155, 3, 9, 65, 29, 55, 74]\n\n\nprint(shape.landmark_indices)"
      ]
    },
    {
      "cell_type": "markdown",
      "metadata": {},
      "source": [
        "Using LandmarkSetter with a list of shapes will set landmarks in correspondence.\nOne the landmarks are selected on the first shape of the list (the reference shape),\nthe user can select the same landmarks on the other shapes.\n\n<img src=\"file://../../images/demolandmarks.gif\">\n\n"
      ]
    },
    {
      "cell_type": "code",
      "execution_count": null,
      "metadata": {
        "collapsed": false
      },
      "outputs": [],
      "source": [
        "# shape1 = sks.PolyData(examples.download_human())\n\nshape1 = sks.PolyData(examples.download_woman())\nshape2 = sks.PolyData(examples.download_doorman())\n\nif not pv.BUILDING_GALLERY:\n    app = sks.LandmarkSetter([shape1, shape2])\n    app.start()\nelse:\n    landmarks1 = [4808, 147742, 1774]\n    landmarks2 = [325, 2116, 1927]\n    shape1.landmark_indices = landmarks1\n    shape2.landmark_indices = landmarks2\n\nprint(\"Landmarks shape 1:\")\nprint(shape1.landmark_indices)\nprint(\"Landmarks shape 2:\")\nprint(shape2.landmark_indices)"
      ]
    }
  ],
  "metadata": {
    "kernelspec": {
      "display_name": "Python 3",
      "language": "python",
      "name": "python3"
    },
    "language_info": {
      "codemirror_mode": {
        "name": "ipython",
        "version": 3
      },
      "file_extension": ".py",
      "mimetype": "text/x-python",
      "name": "python",
      "nbconvert_exporter": "python",
      "pygments_lexer": "ipython3",
      "version": "3.11.11"
    }
  },
  "nbformat": 4,
  "nbformat_minor": 0
}