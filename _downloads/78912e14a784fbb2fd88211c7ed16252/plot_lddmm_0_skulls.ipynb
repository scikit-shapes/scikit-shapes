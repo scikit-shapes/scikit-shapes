{
  "cells": [
    {
      "cell_type": "code",
      "execution_count": null,
      "metadata": {
        "collapsed": false
      },
      "outputs": [],
      "source": [
        "%matplotlib inline"
      ]
    },
    {
      "cell_type": "markdown",
      "metadata": {},
      "source": [
        "\n# Registration with LDDMM\n\nLDDMM is a deformation method based on geodesic shooting in the space of\ndiffeomorphisms. In scikit-shapes, LDDMM can be expressed as an ExtrinisicDeformation\nmodel with `n_steps > 1` and is parametrized by a momentum vector field over a set\nof control points.\n"
      ]
    },
    {
      "cell_type": "code",
      "execution_count": null,
      "metadata": {
        "collapsed": false
      },
      "outputs": [],
      "source": [
        "import sys\n\nimport pykeops\n\nimport skshapes as sks\n\n# This is a fix for the documentation, you can remove it if you are running the code in a script\nsys.path.append(pykeops.get_build_folder())"
      ]
    },
    {
      "cell_type": "markdown",
      "metadata": {},
      "source": [
        "## Prepare the data\n\n"
      ]
    },
    {
      "cell_type": "code",
      "execution_count": null,
      "metadata": {
        "collapsed": false
      },
      "outputs": [],
      "source": [
        "source = sks.PolyData(\"../test_data/skulls/template.vtk\")\ntarget = sks.PolyData(\"../test_data/skulls/skull_neandertalis.vtk\")\n\n# Add control points to the source shape\nsource.control_points = source.bounding_grid(N=20, offset=0.1)\n\n# Add landmarks to the source and target shapes\nsource.landmark_indices = [\n    94,\n    84,\n    105,\n    95,\n    106,\n    131,\n    116,\n    136,\n    68,\n    79,\n    31,\n    61,\n    47,\n    19,\n]\ntarget.landmark_indices = [\n    49,\n    37,\n    36,\n    29,\n    13,\n    72,\n    24,\n    0,\n    59,\n    51,\n    156,\n    103,\n    123,\n    169,\n]"
      ]
    },
    {
      "cell_type": "markdown",
      "metadata": {},
      "source": [
        "## Apply the registration\n\nThe loss function is a combination of the landmark loss and the optimal\ntransport loss. The model is the LDDMM model with 5 steps of discretization\nwith a Gaussian kernel. We use a 50x50 grid as control points.\n\n"
      ]
    },
    {
      "cell_type": "code",
      "execution_count": null,
      "metadata": {
        "collapsed": false
      },
      "outputs": [],
      "source": [
        "loss = sks.LandmarkLoss() + sks.OptimalTransportLoss()\nmodel = sks.ExtrinsicDeformation(\n    n_steps=5, kernel=\"gaussian\", scale=8, control_points=True\n)\n\nregistration = sks.Registration(\n    model=model,\n    loss=loss,\n    optimizer=sks.LBFGS(),\n    n_iter=1,\n    verbose=True,\n    regularization_weight=0,\n)\n\nmorphed = registration.fit_transform(source=source, target=target)"
      ]
    },
    {
      "cell_type": "markdown",
      "metadata": {},
      "source": [
        "## Visualize the result\n\n"
      ]
    },
    {
      "cell_type": "code",
      "execution_count": null,
      "metadata": {
        "collapsed": false
      },
      "outputs": [],
      "source": [
        "import numpy as np\nimport pyvista as pv\n\nsource_color = \"teal\"\ntarget_color = \"red\"\ncpos = [\n    (-20.266633872244565, 9.52741654099364, 653.2794560673151),\n    (-25.034557342529297, 25.013988494873047, 0.0),\n    (0.0009758954196487321, 0.9997188263985942, 0.023692103586369296),\n]\n\nplotter = pv.Plotter(shape=(1, 2))\nplotter.subplot(0, 0)\nplotter.camera_position = cpos\nplotter.add_text(\"Before registration\", font_size=20, position=\"upper_edge\")\nplotter.add_mesh(\n    source.control_points.to_pyvista(), color=\"black\", line_width=1\n)\nplotter.add_mesh(source.to_pyvista(), color=source_color, line_width=10)\nplotter.add_mesh(target.to_pyvista(), color=target_color, line_width=10)\n\nsource_landmarks = source.landmark_points_3D.detach().cpu().numpy()\ntarget_landmarks = target.landmark_points_3D.detach().cpu().numpy()\n\nall_landmarks = np.concatenate([source_landmarks, target_landmarks], axis=0)\nlines = []\nfor i in range(len(source_landmarks)):\n    lines.append(2)\n    lines.append(i)\n    lines.append(i + len(source_landmarks))\nlandmarks = pv.PolyData(all_landmarks, lines=lines)\nplotter.add_mesh(landmarks, color=\"blue\", line_width=1)\nplotter.add_points(\n    landmarks.points,\n    color=\"blue\",\n    point_size=10,\n    render_points_as_spheres=True,\n)\n\nplotter.subplot(0, 1)\nplotter.camera_position = cpos\nplotter.add_text(\"After registration\", font_size=20, position=\"upper_edge\")\nplotter.add_mesh(\n    morphed.control_points.to_pyvista(), color=\"black\", line_width=1\n)\nplotter.add_mesh(morphed.to_pyvista(), color=source_color, line_width=10)\nplotter.add_mesh(target.to_pyvista(), color=target_color, line_width=10)\n\nmorphed_landmarks = morphed.landmark_points_3D.detach().cpu().numpy()\nall_landmarks = np.concatenate([morphed_landmarks, target_landmarks], axis=0)\nlines = []\nfor i in range(len(morphed_landmarks)):\n    lines.append(2)\n    lines.append(i)\n    lines.append(i + len(morphed_landmarks))\nlandmarks = pv.PolyData(all_landmarks, lines=lines)\nplotter.add_mesh(landmarks, color=\"blue\", line_width=5)\nplotter.add_points(\n    landmarks.points,\n    color=\"blue\",\n    point_size=10,\n    render_points_as_spheres=True,\n)\n\nplotter.show()"
      ]
    }
  ],
  "metadata": {
    "kernelspec": {
      "display_name": "Python 3",
      "language": "python",
      "name": "python3"
    },
    "language_info": {
      "codemirror_mode": {
        "name": "ipython",
        "version": 3
      },
      "file_extension": ".py",
      "mimetype": "text/x-python",
      "name": "python",
      "nbconvert_exporter": "python",
      "pygments_lexer": "ipython3",
      "version": "3.11.11"
    }
  },
  "nbformat": 4,
  "nbformat_minor": 0
}