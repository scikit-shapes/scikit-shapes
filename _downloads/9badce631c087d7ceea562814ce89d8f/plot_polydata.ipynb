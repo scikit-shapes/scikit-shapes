{
  "cells": [
    {
      "cell_type": "code",
      "execution_count": null,
      "metadata": {
        "collapsed": false
      },
      "outputs": [],
      "source": [
        "%matplotlib inline"
      ]
    },
    {
      "cell_type": "markdown",
      "metadata": {},
      "source": [
        "\n# The `PolyData` class: point cloud, wireframe and triangle meshes\n\nThis notebook describes the :class:`skshapes.PolyData` class,\nthe common class for point clouds, wireframe and triangle meshes.\n\n- Load and create `PolyData`\n- Plot `PolyData` with PyVista\n- Add a signal\n- Add landmarks\n- Add control points\n- Save the object and load it back\n"
      ]
    },
    {
      "cell_type": "markdown",
      "metadata": {},
      "source": [
        "There are two ways to create a `PolyData` object:\n\n- from a file\n- explicitly with `points`, `edges` (optional), `triangles` (optional)\n\n"
      ]
    },
    {
      "cell_type": "code",
      "execution_count": null,
      "metadata": {
        "collapsed": false
      },
      "outputs": [],
      "source": [
        "import pyvista as pv\n\nimport skshapes as sks\n\ncpos = [\n    (-1.6657788922829617, 7.472045340108491, 3.9439767221656665),\n    (0.8380894707515836, -0.003572508692741394, -0.002311795949935913),\n    (0.9587598899863243, 0.2457800580099367, 0.14272924170625823),\n]\n\n\n# Load a mesh from a .ply file\nmesh = sks.PolyData(\"../test_data/human/human.ply\")\n\n# Extract the points, edges and triangles from the mesh\npoints, edges, triangles = mesh.points, mesh.edges, mesh.triangles\n\n# Create a point cloud, a wireframe and a surface mesh from the points, edges and triangles\npoints_cloud = sks.PolyData(points=points)\nwireframe_mesh = sks.PolyData(points=points, edges=edges)\nsurface_mesh = sks.PolyData(points=points, triangles=triangles)\n\n# Create a plotter with 3 subplots and display the point cloud, wireframe and surface mesh\n# PolyData objects can be converted to pyvista objects with the to_pyvista method\nplotter = pv.Plotter(shape=(1, 3))\nplotter.subplot(0, 0)\nplotter.add_text(\"Points cloud\", font_size=24)\nplotter.add_mesh(\n    points_cloud.to_pyvista(), color=\"red\", render_points_as_spheres=True\n)\nplotter.camera_position = cpos\nplotter.subplot(0, 1)\nplotter.add_text(\"Wireframe\", font_size=24)\nplotter.add_mesh(wireframe_mesh.to_pyvista(), color=\"k\", line_width=2)\nplotter.camera_position = cpos\nplotter.subplot(0, 2)\nplotter.add_text(\"Triangle mesh\", font_size=24)\nplotter.add_mesh(surface_mesh.to_pyvista(), color=\"tan\")\nplotter.camera_position = cpos\nplotter.show()"
      ]
    },
    {
      "cell_type": "markdown",
      "metadata": {},
      "source": [
        "## Add signals\n\n- Signals can be added to the PolyData object through `point_data`, `edge_data` or `triangle_data`.\n- The size of the array in the first dimension is expected to match `n_points`, `n_edges` or`n_triangles`.\n\n"
      ]
    },
    {
      "cell_type": "code",
      "execution_count": null,
      "metadata": {
        "collapsed": false
      },
      "outputs": [],
      "source": [
        "import torch\n\n# Add some user-defined data to the mesh\nsurface_mesh.triangle_data[\"signal_triangles\"] = torch.rand(\n    surface_mesh.n_triangles, 3\n)\nsurface_mesh.edge_data[\"signal_edges\"] = torch.rand(surface_mesh.n_edges, 3, 3)\nsurface_mesh.point_data[\"signal_points\"] = surface_mesh.points[:, 0]\n\n# Some features are already available in the mesh object\nsurface_mesh.triangle_data[\"centers\"] = surface_mesh.triangle_centroids\nsurface_mesh.triangle_data[\"areas\"] = surface_mesh.triangle_areas\nsurface_mesh.edge_data[\"centers\"] = surface_mesh.edge_midpoints\nsurface_mesh.edge_data[\"lengths\"] = surface_mesh.edge_lengths\n\n# Call the plot method display information about the signal data (size, type, device)\nprint(\"Triangle_data:\")\nprint(surface_mesh.triangle_data)\n\n# Point_data can be used in the plot method to color the surface mesh\nsurface_mesh.plot(scalars=\"signal_points\", cpos=cpos)"
      ]
    },
    {
      "cell_type": "markdown",
      "metadata": {},
      "source": [
        "## Add landmarks\n\n- Landmarks are distinguished points of the `PolyData`\n- They can be selected via an interactive application (using vedo)\n- Landmarks can be accessed as `(n_landmarks, 3)` tensors or list of indices\n\n"
      ]
    },
    {
      "cell_type": "code",
      "execution_count": null,
      "metadata": {
        "collapsed": false
      },
      "outputs": [],
      "source": [
        "if not pv.BUILDING_GALLERY:\n    # If not in the gallery, we can use vedo to open the landmark setter\n    # Setting the default backend to vtk is necessary when running in a notebook\n    import vedo\n\n    vedo.settings.default_backend = \"vtk\"\n    sks.LandmarkSetter(surface_mesh).start()\nelse:\n    # Set the landmarks manually\n    surface_mesh.landmark_indices = [122, 82, 89, 28, 27]\n\nplotter = pv.Plotter()\nplotter.add_mesh(surface_mesh.to_pyvista(), color=\"tan\")\nplotter.add_points(\n    surface_mesh.landmark_points.numpy(),\n    color=\"red\",\n    point_size=10,\n    render_points_as_spheres=True,\n)\nplotter.camera_position = cpos\nplotter.add_title(f\"Landmarks : {surface_mesh.landmark_indices}\")\nplotter.show()"
      ]
    },
    {
      "cell_type": "markdown",
      "metadata": {},
      "source": [
        "## Add control points\n\n- Control points are represented by another `PolyData`, attached to the first\n- The `bounding_grid` method offers a standard way to define control points as regular grids\n\n"
      ]
    },
    {
      "cell_type": "code",
      "execution_count": null,
      "metadata": {
        "collapsed": false
      },
      "outputs": [],
      "source": [
        "surface_mesh.control_points = surface_mesh.bounding_grid(N=10, offset=0.05)\n\nplotter = pv.Plotter()\nplotter.add_mesh(surface_mesh.to_pyvista(), color=\"tan\")\nplotter.add_mesh(\n    surface_mesh.control_points.to_pyvista(), color=\"green\", opacity=0.9\n)\nplotter.camera_position = cpos\nplotter.show()"
      ]
    },
    {
      "cell_type": "markdown",
      "metadata": {},
      "source": [
        "## Save and load\n\n- `PolyData` can be saved to the disk\n- If the file format is `.vtk`, signals and landmarks persist when loaded back\n- it is also possible to save in `.stl` or `.obj` but signals/landmarks will be lost\n- Control points must be saved separately\n\n"
      ]
    },
    {
      "cell_type": "code",
      "execution_count": null,
      "metadata": {
        "collapsed": false
      },
      "outputs": [],
      "source": [
        "extension = \".vtk\"\n\nfrom pathlib import Path\n\nfilename_mesh = \"tmp\" + extension\nfilename_control_points = \"tmp_control_points\" + extension\n\nsurface_mesh.save(filename_mesh)\nsurface_mesh.control_points.save(filename_control_points)\n\nloaded_mesh = sks.PolyData(filename_mesh)\nloaded_mesh.control_points = sks.PolyData(filename_control_points)\n\nplotter = pv.Plotter()\nplotter.add_mesh(\n    loaded_mesh.to_pyvista(), scalars=\"signal_points\", cmap=\"viridis\"\n)\nplotter.add_points(\n    loaded_mesh.landmark_points.numpy(),\n    color=\"red\",\n    point_size=10,\n    render_points_as_spheres=True,\n)\nplotter.add_mesh(\n    loaded_mesh.control_points.to_pyvista(), color=\"green\", opacity=0.9\n)\nplotter.camera_position = cpos\nplotter.add_title(f\"Landmarks : {loaded_mesh.landmark_indices}\")\nplotter.show()\n\nprint(\"Triangle_data:\")\nprint(loaded_mesh.triangle_data)\n\nPath.unlink(Path(filename_mesh))\nPath.unlink(Path(filename_control_points))"
      ]
    }
  ],
  "metadata": {
    "kernelspec": {
      "display_name": "Python 3",
      "language": "python",
      "name": "python3"
    },
    "language_info": {
      "codemirror_mode": {
        "name": "ipython",
        "version": 3
      },
      "file_extension": ".py",
      "mimetype": "text/x-python",
      "name": "python",
      "nbconvert_exporter": "python",
      "pygments_lexer": "ipython3",
      "version": "3.11.11"
    }
  },
  "nbformat": 4,
  "nbformat_minor": 0
}