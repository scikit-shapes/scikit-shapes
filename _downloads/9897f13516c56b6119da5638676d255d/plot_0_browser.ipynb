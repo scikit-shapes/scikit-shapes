{
  "cells": [
    {
      "cell_type": "code",
      "execution_count": null,
      "metadata": {
        "collapsed": false
      },
      "outputs": [],
      "source": [
        "%matplotlib inline"
      ]
    },
    {
      "cell_type": "markdown",
      "metadata": {},
      "source": [
        "\n# Browse a sequence of shapes\n\nA Browser can be used to visualize a sequence of shapes. The user can navigate\nthrough the sequence via a slider.\n"
      ]
    },
    {
      "cell_type": "code",
      "execution_count": null,
      "metadata": {
        "collapsed": false
      },
      "outputs": [],
      "source": [
        "import pyvista as pv\n\nimport skshapes as sks\n\n# sphinx_gallery_thumbnail_path = 'source/images/demo_browser.gif'\n\nsource = sks.PolyData(\"../test_data/cactus/cactus3.ply\")\ntarget = sks.PolyData(\"../test_data/cactus/cactus11.ply\")\n\nloss = sks.L2Loss()\nmodel = sks.IntrinsicDeformation(n_steps=5)\n\nregistration = sks.Registration(\n    model=model,\n    loss=loss,\n    optimizer=sks.LBFGS(),\n    n_iter=1,\n    regularization_weight=0,\n)\n\nregistration.fit(source=source, target=target)"
      ]
    },
    {
      "cell_type": "markdown",
      "metadata": {},
      "source": [
        "If you are running this script locally, the vedo window containing the\nbrowser will be displayed. Then, you can navigate through the sequence of\nshapes using the slider and adjust the camera position.\n\n<img src=\"file://../../images/demo_browser.gif\">\n\n"
      ]
    },
    {
      "cell_type": "code",
      "execution_count": null,
      "metadata": {
        "collapsed": false
      },
      "outputs": [],
      "source": [
        "if not pv.BUILDING_GALLERY:\n    app = sks.Browser(registration.path_)\n    app.show()"
      ]
    }
  ],
  "metadata": {
    "kernelspec": {
      "display_name": "Python 3",
      "language": "python",
      "name": "python3"
    },
    "language_info": {
      "codemirror_mode": {
        "name": "ipython",
        "version": 3
      },
      "file_extension": ".py",
      "mimetype": "text/x-python",
      "name": "python",
      "nbconvert_exporter": "python",
      "pygments_lexer": "ipython3",
      "version": "3.11.11"
    }
  },
  "nbformat": 4,
  "nbformat_minor": 0
}