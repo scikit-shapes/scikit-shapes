{
  "cells": [
    {
      "cell_type": "code",
      "execution_count": null,
      "metadata": {
        "collapsed": false
      },
      "outputs": [],
      "source": [
        "%matplotlib inline"
      ]
    },
    {
      "cell_type": "markdown",
      "metadata": {},
      "source": [
        "\n# Rigid alignment in 2D\n\n\nThis is an example of rigid alignment in 2D for meshes with points in dense correspondence.\n"
      ]
    },
    {
      "cell_type": "code",
      "execution_count": null,
      "metadata": {
        "collapsed": false
      },
      "outputs": [],
      "source": [
        "import pyvista as pv\nimport torch\nfrom pyvista import examples\n\nimport skshapes as sks"
      ]
    },
    {
      "cell_type": "markdown",
      "metadata": {},
      "source": [
        "We load two toy shapes in 2D: wireframe meshes representing circles. To\nbe able to see orientations, we remove one edge from each circle. The points\nof both circles are in dense correspondence.\n\n"
      ]
    },
    {
      "cell_type": "code",
      "execution_count": null,
      "metadata": {
        "collapsed": false
      },
      "outputs": [],
      "source": [
        "source = sks.PolyData(examples.download_human())\ntarget = sks.PolyData(examples.download_doorman())\n\n# Load the circles\nsource = sks.Circle()\ntarget = sks.Circle()\n\n# Remove one edge from each circle\nsource.edges = source.edges[:-1]\ntarget.edges = target.edges[:-1]"
      ]
    },
    {
      "cell_type": "markdown",
      "metadata": {},
      "source": [
        "Rigid motion are parametrized by a rotation and a translation. We apply a\nrigid motion to one of the circles.\n\n"
      ]
    },
    {
      "cell_type": "code",
      "execution_count": null,
      "metadata": {
        "collapsed": false
      },
      "outputs": [],
      "source": [
        "theta = 0.75 * torch.pi  # angle in radians\ntranslation = torch.tensor([1.0, 0.8])  # translation in the plane\n\n# In 2D, the parameter is a 3D vector: [theta, tx, ty]\nparameter = torch.cat([torch.tensor([theta]), translation])\n\n# Apply the rigid motion to the circle\nrigid_motion = sks.RigidMotion()\nsource = rigid_motion.morph(\n    shape=source,\n    parameter=torch.cat([torch.tensor([theta]), translation]),\n).morphed_shape\n\nplotter = pv.Plotter()\nplotter.add_mesh(\n    source.to_pyvista(),\n    color=\"blue\",\n    show_edges=True,\n    line_width=5,\n    label=\"Source\",\n)\nplotter.add_mesh(\n    target.to_pyvista(),\n    color=\"red\",\n    show_edges=True,\n    line_width=5,\n    label=\"Target\",\n)\nplotter.add_legend()\nplotter.show()"
      ]
    },
    {
      "cell_type": "markdown",
      "metadata": {},
      "source": [
        "## Registration\n\n"
      ]
    },
    {
      "cell_type": "code",
      "execution_count": null,
      "metadata": {
        "collapsed": false
      },
      "outputs": [],
      "source": [
        "from skshapes.loss import L2Loss\nfrom skshapes.morphing import RigidMotion\nfrom skshapes.tasks import Registration\n\nloss = L2Loss()\nmodel = RigidMotion(n_steps=5)\n\nregistration = Registration(\n    model=model,\n    loss=loss,\n    n_iter=5,\n    verbose=True,\n)\n\n\nregistration.fit(source=source, target=target)"
      ]
    },
    {
      "cell_type": "markdown",
      "metadata": {},
      "source": [
        "Animation\n\n"
      ]
    },
    {
      "cell_type": "code",
      "execution_count": null,
      "metadata": {
        "collapsed": false
      },
      "outputs": [],
      "source": [
        "path = registration.path_\nplotter = pv.Plotter()\nactor = plotter.add_mesh(\n    source.to_pyvista(), color=\"blue\", show_edges=True, line_width=5\n)\nplotter.add_mesh(\n    target.to_pyvista(), color=\"red\", show_edges=True, line_width=5\n)\nplotter.open_gif(\"rigid_registration.gif\", fps=3)\nfor _i, shape in enumerate(path):\n    plotter.remove_actor(actor)\n    actor = plotter.add_mesh(\n        shape.to_pyvista(), color=\"blue\", show_edges=True, line_width=5\n    )\n    plotter.write_frame()\n\nplotter.close()"
      ]
    }
  ],
  "metadata": {
    "kernelspec": {
      "display_name": "Python 3",
      "language": "python",
      "name": "python3"
    },
    "language_info": {
      "codemirror_mode": {
        "name": "ipython",
        "version": 3
      },
      "file_extension": ".py",
      "mimetype": "text/x-python",
      "name": "python",
      "nbconvert_exporter": "python",
      "pygments_lexer": "ipython3",
      "version": "3.11.11"
    }
  },
  "nbformat": 4,
  "nbformat_minor": 0
}