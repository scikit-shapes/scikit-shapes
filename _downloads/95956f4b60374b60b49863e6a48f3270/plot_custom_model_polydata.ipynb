{
  "cells": [
    {
      "cell_type": "code",
      "execution_count": null,
      "metadata": {
        "collapsed": false
      },
      "outputs": [],
      "source": [
        "%matplotlib inline"
      ]
    },
    {
      "cell_type": "markdown",
      "metadata": {},
      "source": [
        "\n# Write a custom deformation model for PolyData.\n\nThis notebooks shows how to write a class to define a deformation model.\n\n\nAll deformation models must inherit from `sks.BaseModel` and implement the\nfollowing methods:\n\n- `__init__`: set hyperparameters of the deformation model\n- `morph`: compute the morphed shape from the source shape and the optimization parameter and optionally save additional information (deformation path, regularization...)\n- `parameter_shape`: return the shape of the parameter with respect to the shape to morph.\n"
      ]
    },
    {
      "cell_type": "code",
      "execution_count": null,
      "metadata": {
        "collapsed": false
      },
      "outputs": [],
      "source": [
        "import torch\n\nimport skshapes as sks"
      ]
    },
    {
      "cell_type": "markdown",
      "metadata": {},
      "source": [
        "Define the deformation model\n\n"
      ]
    },
    {
      "cell_type": "code",
      "execution_count": null,
      "metadata": {
        "collapsed": false
      },
      "outputs": [],
      "source": [
        "class Translation(sks.BaseModel):\n    def __init__(self, n_steps: int):\n        \"\"\"Set the hyperparameters of the model.\n\n        At initialization, the model is provided with hyperparameters. These\n        hyperparameters are used to define the behavior of the model. In this\n        case, the hyperparameter is the number of steps in the morphing.\n\n        While not mandatory, `n_steps` is a common hyperparameter for morphing\n        models. It defines the number of intermediate shapes that are generated\n        between the initial and final shapes. For some models (ExtrinsicDeformation,\n        IntrinsicDeformation) it has a real impact on the output of the model.\n        On the other hand, for some models (RigidMotion, Translation) it has no\n        impact but is useful to create animations with a fixed number of frames.\n        \"\"\"\n        self.n_steps = n_steps\n\n    def morph(\n        self,\n        shape: sks.polydata_type,\n        parameter: sks.Float1dTensor,\n        return_path: bool = False,\n        return_regularization: bool = False,\n    ) -> sks.MorphingOutput:\n        \"\"\"Apply the morphing to the shape.\n\n        This method is the core of the model. It takes a shape and a parameter\n        as input and returns a MorphingOutput object. This object contains the\n        morphed shape, the path (if return_path is True), and the regularization\n        term (if return_regularization is True).\n\n        The morphed shape attributes should be differentiable with respect to\n        the parameter. This is necessary for the optimization process to work\n        properly.\n\n        If return_path is True, the path is a list of shapes that represent the\n        intermediate shapes between the initial and final shapes. The length of\n        the path is defined by the hyperparameter n_steps. By default, the path\n        can be set to be [shape, morphed_shape].\n        \"\"\"\n\n        # It is often a good idea to check the input parameters or specific\n        # conditions before proceeding with the morphing.\n        if parameter.shape != (shape.dim,):\n            error_msg = f\"Expected parameter to have shape {(shape.dim,)}, got {parameter.shape}\"\n            raise error_msg\n\n        # Apply the morphing\n        morphed_shape = shape.copy()\n        morphed_shape.points += parameter  # apply translation\n\n        # If return_path is True, we need to return successive shapes along\n        # the frames of the morphing, else path is None.\n        if return_path:\n            path = [shape.copy() for i in range(self.n_steps + 1)]\n            for i in range(self.n_steps):\n                path[i].points += parameter * (i + 1) / self.n_steps\n        else:\n            path = None\n\n        # If return_regularization is True, we need to return the regularization\n        # term, else regularization is None.\n        regularization = (\n            None if not return_regularization else torch.tensor(0.0)\n        )\n\n        # The output of the morphing is a MorphingOutput object.\n        output = sks.MorphingOutput(\n            morphed_shape=morphed_shape,\n            path=path,\n            regularization=regularization,\n        )\n\n        # Custom attributes can be added to the output object.\n        output.translation_norm = torch.norm(parameter)\n\n        return output\n\n    def parameter_shape(self, shape):\n        \"\"\"Parameter shape.\n\n        This method returns the shape of the parameter tensor given the shape\n        of the input shape. This is useful to automatically initialize the\n        parameter tensor in the optimization process.\n        \"\"\"\n        if shape.dim == 2:\n            return (2,)\n        else:\n            return (3,)"
      ]
    },
    {
      "cell_type": "markdown",
      "metadata": {},
      "source": [
        "## Validate the model\nYou can validate the model using the `validate_polydata_morphing_model` function.\nIt is useful to detect if you did one of the following mistakes:\n\n"
      ]
    },
    {
      "cell_type": "code",
      "execution_count": null,
      "metadata": {
        "collapsed": false
      },
      "outputs": [],
      "source": [
        "shape_3d = sks.Sphere()\nshape_2d = sks.Circle()\nmodel = Translation(n_steps=10)\n\nsks.validate_polydata_morphing_model(model, shape_3d)\nsks.validate_polydata_morphing_model(model, shape_2d)\n\n# To make these tests fails, we can:\n# - Break the differentiability by adding parameter = parameter.detach() in the morph method\n# - Change the parameter shape in the parameter_shape method\n# - Remove sks.BaseModel inheritance"
      ]
    },
    {
      "cell_type": "markdown",
      "metadata": {},
      "source": [
        "## Integrate the model in a registration task\n\n"
      ]
    },
    {
      "cell_type": "code",
      "execution_count": null,
      "metadata": {
        "collapsed": false
      },
      "outputs": [],
      "source": [
        "loss = sks.L2Loss()  # L2 loss\nmodel = Translation(n_steps=4)  # our custom model\n\n# Source shape : a sphere\nsource = sks.Sphere()\n\n# Target shape : the same sphere translated by 4 units along the x-axis\ntarget = sks.Sphere()\ntarget.points += torch.tensor([4, 0, 0])\n\n# Registration\nregistration = sks.Registration(model=model, loss=loss, n_iter=1, verbose=True)\n\nregistration.fit(source=source, target=target)"
      ]
    },
    {
      "cell_type": "markdown",
      "metadata": {},
      "source": [
        "## Access the output of the registration and the attributes of the model\n\n"
      ]
    },
    {
      "cell_type": "markdown",
      "metadata": {},
      "source": [
        "Morphed shape and path (successive frames representing the deformations are accessible with `morphed_shape_` and `path_` argument)\n\n"
      ]
    },
    {
      "cell_type": "code",
      "execution_count": null,
      "metadata": {
        "collapsed": false
      },
      "outputs": [],
      "source": [
        "morphed_shape = registration.morphed_shape_\nframes = registration.path_\n\nsource_color = \"teal\"\ntarget_color = \"red\"\n\nimport pyvista as pv\n\nplotter = pv.Plotter()\nplotter.add_mesh(source.to_pyvista(), color=source_color, opacity=0.5)\nplotter.add_mesh(target.to_pyvista(), color=target_color, opacity=0.5)\nfor frame in frames:\n\n    plotter.add_mesh(frame.to_pyvista(), color=\"grey\", opacity=0.5)\nplotter.show()"
      ]
    },
    {
      "cell_type": "markdown",
      "metadata": {},
      "source": [
        "The parameter of the registration is also accessible as well as the custom attributes added to the output object (`translation_norm` in this example)\n\n"
      ]
    },
    {
      "cell_type": "code",
      "execution_count": null,
      "metadata": {
        "collapsed": false
      },
      "outputs": [],
      "source": [
        "t = registration.parameter_\nnorm = registration.translation_norm_\n\nprint(f\"Translation vector: {t}, norm: {norm}\")"
      ]
    }
  ],
  "metadata": {
    "kernelspec": {
      "display_name": "Python 3",
      "language": "python",
      "name": "python3"
    },
    "language_info": {
      "codemirror_mode": {
        "name": "ipython",
        "version": 3
      },
      "file_extension": ".py",
      "mimetype": "text/x-python",
      "name": "python",
      "nbconvert_exporter": "python",
      "pygments_lexer": "ipython3",
      "version": "3.11.11"
    }
  },
  "nbformat": 4,
  "nbformat_minor": 0
}