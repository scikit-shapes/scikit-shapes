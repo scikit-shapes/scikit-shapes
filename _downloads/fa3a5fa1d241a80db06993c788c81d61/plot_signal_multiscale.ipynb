{
  "cells": [
    {
      "cell_type": "code",
      "execution_count": null,
      "metadata": {
        "collapsed": false
      },
      "outputs": [],
      "source": [
        "%matplotlib inline"
      ]
    },
    {
      "cell_type": "markdown",
      "metadata": {},
      "source": [
        "\n\n# Multiscaling and signal propagation\n\nWe propagate a signal across the different shapes of a multiscale representation,\nusing rules that are specified by a :class:`FineToCoarsePolicy <skshapes.types.FineToCoarsePolicy>`\nand a :class:`CoarseToFinePolicy <skshapes.types.CoarseToFinePolicy>`.\n"
      ]
    },
    {
      "cell_type": "markdown",
      "metadata": {},
      "source": [
        "First, we load the Stanford bunny as a triangle mesh and sub-sample it using 10%, 1% and 0.5% of the original point count.\n\n"
      ]
    },
    {
      "cell_type": "code",
      "execution_count": null,
      "metadata": {
        "collapsed": false
      },
      "outputs": [],
      "source": [
        "import pyvista as pv\n\nimport skshapes as sks\n\nbunny = sks.PolyData(pv.examples.download_bunny())\nratios = [1, 0.1, 0.01, 0.001]\nmultiscale_bunny = sks.Multiscale(shape=bunny, ratios=ratios)"
      ]
    },
    {
      "cell_type": "markdown",
      "metadata": {},
      "source": [
        "Then, we define a signal on the original, high resolution surface mesh.\n\n"
      ]
    },
    {
      "cell_type": "code",
      "execution_count": null,
      "metadata": {
        "collapsed": false
      },
      "outputs": [],
      "source": [
        "# Extract the 2nd coordinate \"y\" of each point \"xyz\"\nsignal = multiscale_bunny.at(ratio=1).points[:, 1]\n\n# Use it as a \"height\" signal\nmultiscale_bunny.at(ratio=1).point_data[\"height\"] = signal"
      ]
    },
    {
      "cell_type": "markdown",
      "metadata": {},
      "source": [
        "We use the :meth:`~skshapes.multiscaling.multiscale.Multiscale.propagate`\nmethod to transfer the signal from our high resolution mesh to the coarser scales.\n\n<div class=\"alert alert-info\"><h4>Note</h4><p>Accessing the multiscale representation at ``ratio=1`` always returns the finest shape.</p></div>\n\n\n"
      ]
    },
    {
      "cell_type": "code",
      "execution_count": null,
      "metadata": {
        "collapsed": false
      },
      "outputs": [],
      "source": [
        "multiscale_bunny.propagate(\n    signal_name=\"height\",\n    from_ratio=1,\n    fine_to_coarse_policy=sks.FineToCoarsePolicy(reduce=\"mean\"),\n)\n\npl = pv.Plotter(shape=(2, 2))\nfor i, ratio in enumerate(ratios):\n    pl.subplot(i // 2, i % 2)\n    sks.doc.display(\n        plotter=pl, shape=multiscale_bunny.at(ratio=ratio), scalars=\"height\"\n    )\npl.show()"
      ]
    },
    {
      "cell_type": "markdown",
      "metadata": {},
      "source": [
        "Conversely, let us propagate a signal from the coarser resolutions to\nthe finer levels of detail.\n\n<div class=\"alert alert-info\"><h4>Note</h4><p>Accessing the multiscale representation at ``ratio=0`` always returns the coarsest shape.</p></div>\n\n\n"
      ]
    },
    {
      "cell_type": "code",
      "execution_count": null,
      "metadata": {
        "collapsed": false
      },
      "outputs": [],
      "source": [
        "signal_coarse = multiscale_bunny.at(ratio=0).points[:, 1]\nmultiscale_bunny.at(ratio=0).point_data[\"signal\"] = signal_coarse\n\n# propagate the signal from the lower resolutions to the higher resolution\nmultiscale_bunny.propagate(\n    signal_name=\"signal\",\n    from_ratio=0,\n    coarse_to_fine_policy=sks.CoarseToFinePolicy(smoothing=\"constant\"),\n)\n\npl = pv.Plotter(shape=(2, 2))\nfor i, ratio in enumerate(reversed(ratios)):\n    pl.subplot(i // 2, i % 2)\n    sks.doc.display(\n        plotter=pl, shape=multiscale_bunny.at(ratio=ratio), scalars=\"signal\"\n    )\npl.show()"
      ]
    },
    {
      "cell_type": "markdown",
      "metadata": {},
      "source": [
        "The ``\"constant\"`` policy results in sharp transitions between regions of\nthe surface that were collapsed to the same coarse point.\nTo mitigate this issue, we can use a ``\"mesh_convolution\"`` :class:`CoarseToFinePolicy <skshapes.types.CoarseToFinePolicy>`\nthat interleaves smoothing steps between the jumps from coarse to fine scales.\n\n\n"
      ]
    },
    {
      "cell_type": "code",
      "execution_count": null,
      "metadata": {
        "collapsed": false
      },
      "outputs": [],
      "source": [
        "multiscale_bunny.propagate(\n    signal_name=\"signal\",\n    from_ratio=0,\n    coarse_to_fine_policy=sks.CoarseToFinePolicy(\n        smoothing=\"mesh_convolution\",\n        n_smoothing_steps=2,\n    ),\n)\n\npl = pv.Plotter(shape=(2, 2))\nfor i, ratio in enumerate(reversed(ratios)):\n    pl.subplot(i // 2, i % 2)\n    sks.doc.display(\n        plotter=pl, shape=multiscale_bunny.at(ratio=ratio), scalars=\"signal\"\n    )\npl.show()"
      ]
    }
  ],
  "metadata": {
    "kernelspec": {
      "display_name": "Python 3",
      "language": "python",
      "name": "python3"
    },
    "language_info": {
      "codemirror_mode": {
        "name": "ipython",
        "version": 3
      },
      "file_extension": ".py",
      "mimetype": "text/x-python",
      "name": "python",
      "nbconvert_exporter": "python",
      "pygments_lexer": "ipython3",
      "version": "3.11.11"
    }
  },
  "nbformat": 4,
  "nbformat_minor": 0
}