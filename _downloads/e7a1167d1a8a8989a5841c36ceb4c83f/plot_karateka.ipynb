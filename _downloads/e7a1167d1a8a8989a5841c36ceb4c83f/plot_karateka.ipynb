{
  "cells": [
    {
      "cell_type": "code",
      "execution_count": null,
      "metadata": {
        "collapsed": false
      },
      "outputs": [],
      "source": [
        "%matplotlib inline"
      ]
    },
    {
      "cell_type": "markdown",
      "metadata": {},
      "source": [
        "\n# Intrinsic vs Extrinsic deformation\n\nIntrinsic and extrinsic deformations are two different approaches to non-rigid\ndeformation.\n\nThis example shows how both approaches differ on a simple 2D example.\n"
      ]
    },
    {
      "cell_type": "code",
      "execution_count": null,
      "metadata": {
        "collapsed": false
      },
      "outputs": [],
      "source": [
        "import sys\n\nimport pykeops\nfrom utils_karateka import (\n    load_data,\n    plot_extrinsic_deformation,\n    plot_intrinsic_deformation,\n    plot_karatekas,\n)\n\nimport skshapes as sks\n\nsys.path.append(pykeops.get_build_folder())\n\nkwargs = {\n    \"loss\": sks.L2Loss(),\n    \"optimizer\": sks.LBFGS(),\n    \"n_iter\": 5,\n    \"gpu\": False,\n    \"verbose\": True,\n}"
      ]
    },
    {
      "cell_type": "markdown",
      "metadata": {},
      "source": [
        "Load the data\n\n"
      ]
    },
    {
      "cell_type": "code",
      "execution_count": null,
      "metadata": {
        "collapsed": false
      },
      "outputs": [],
      "source": [
        "source, target = load_data()\nplot_karatekas()"
      ]
    },
    {
      "cell_type": "markdown",
      "metadata": {},
      "source": [
        "## Extrinsic deformation\n\nExtrinsic deformation is a kind of deformation that relies on the deformation\nof the ambient space, which is transferred to the shape.\nIntituively, you can think that you are twisting a sheet of paper on which\nthe shape is drawn.\n\n"
      ]
    },
    {
      "cell_type": "code",
      "execution_count": null,
      "metadata": {
        "collapsed": false
      },
      "outputs": [],
      "source": [
        "source.control_points = source.bounding_grid(N=10, offset=0.05)\n\nmodel = sks.ExtrinsicDeformation(\n    n_steps=6,\n    kernel=\"gaussian\",\n    scale=1.0,\n    control_points=True,\n)\n\nregistration = sks.Registration(\n    model=model, regularization_weight=0.1, **kwargs\n)\n\nregistration.fit(source=source, target=target)"
      ]
    },
    {
      "cell_type": "markdown",
      "metadata": {},
      "source": [
        "Visualize the deformation\n\n"
      ]
    },
    {
      "cell_type": "code",
      "execution_count": null,
      "metadata": {
        "collapsed": false
      },
      "outputs": [],
      "source": [
        "plot_extrinsic_deformation(\n    source=source, target=target, registration=registration, animation=True\n)"
      ]
    },
    {
      "cell_type": "markdown",
      "metadata": {},
      "source": [
        "## Intrinsic deformation\n\nAn intrinsic deformation is a deformation that is not transferable from one\nshape to another. It is defined as a sequence of small displacements of the\npoints of the shape. In this setting, you can think of the shape as a puppet\nthat you can deform thanks to a set of strings attached to its vertices.\n\nIn this example, we use the \"as isometric as possible\" metric, which tries to\npreserve the lengths of the edges of the shape.\n\n"
      ]
    },
    {
      "cell_type": "code",
      "execution_count": null,
      "metadata": {
        "collapsed": false
      },
      "outputs": [],
      "source": [
        "model = sks.IntrinsicDeformation(\n    n_steps=8,\n    metric=\"as_isometric_as_possible\",\n)\n\nregistration = sks.Registration(\n    model=model, regularization_weight=500, **kwargs\n)\n\nregistration.fit(source=source, target=target)"
      ]
    },
    {
      "cell_type": "markdown",
      "metadata": {},
      "source": [
        "Visualize the deformation\n\n"
      ]
    },
    {
      "cell_type": "code",
      "execution_count": null,
      "metadata": {
        "collapsed": false
      },
      "outputs": [],
      "source": [
        "plot_intrinsic_deformation(\n    source=source, target=target, registration=registration, animation=True\n)"
      ]
    }
  ],
  "metadata": {
    "kernelspec": {
      "display_name": "Python 3",
      "language": "python",
      "name": "python3"
    },
    "language_info": {
      "codemirror_mode": {
        "name": "ipython",
        "version": 3
      },
      "file_extension": ".py",
      "mimetype": "text/x-python",
      "name": "python",
      "nbconvert_exporter": "python",
      "pygments_lexer": "ipython3",
      "version": "3.11.11"
    }
  },
  "nbformat": 4,
  "nbformat_minor": 0
}