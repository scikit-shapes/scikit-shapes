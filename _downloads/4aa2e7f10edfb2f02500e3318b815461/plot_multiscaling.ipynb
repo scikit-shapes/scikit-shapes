{
  "cells": [
    {
      "cell_type": "code",
      "execution_count": null,
      "metadata": {
        "collapsed": false
      },
      "outputs": [],
      "source": [
        "%matplotlib inline"
      ]
    },
    {
      "cell_type": "markdown",
      "metadata": {},
      "source": [
        "\n\n# Multiscaling with triangle meshes\n\nWe use the :class:`skshapes.Multiscale<skshapes.multiscaling.multiscale.Multiscale>` class to create a multiscale decomposition of a triangle mesh. This is useful to accelerate some processing steps, such as multigrid simulations or level-of-detail rendering.\n"
      ]
    },
    {
      "cell_type": "markdown",
      "metadata": {},
      "source": [
        "First, we load the Stanford bunny as a triangle mesh.\n\n"
      ]
    },
    {
      "cell_type": "code",
      "execution_count": null,
      "metadata": {
        "collapsed": false
      },
      "outputs": [],
      "source": [
        "import pyvista as pv\n\nimport skshapes as sks\n\nbunny = sks.PolyData(pv.examples.download_bunny())"
      ]
    },
    {
      "cell_type": "markdown",
      "metadata": {},
      "source": [
        "Then, we create the multiscale representation with different sampling ratios.\n\n"
      ]
    },
    {
      "cell_type": "code",
      "execution_count": null,
      "metadata": {
        "collapsed": false
      },
      "outputs": [],
      "source": [
        "multiscale_bunny = sks.Multiscale(shape=bunny, ratios=[0.1, 0.01, 0.001])"
      ]
    },
    {
      "cell_type": "markdown",
      "metadata": {},
      "source": [
        "Under the hood, we rely on quadric decimation ([Garland and Heckbert 1997](https://www.cs.cmu.edu/~./garland/Papers/quadrics.pdf)) to reduces the number\nof vertices, iteratively collapsing the edge with the smallest approximation error.\nThis algorithm is implemented by the [fast-simplification](https://github.com/pyvista/fast-simplification) package.\n\n"
      ]
    },
    {
      "cell_type": "code",
      "execution_count": null,
      "metadata": {
        "collapsed": false
      },
      "outputs": [],
      "source": [
        "pl = pv.Plotter(shape=(2, 2))\n\nfor i, ratio in enumerate([1, 0.1, 0.01, 0.001]):\n    # Use the '.at()' method to access the shape at different scales\n    sampled_bunny = multiscale_bunny.at(ratio=ratio)\n\n    pl.subplot(i // 2, i % 2)\n    sks.doc.display(\n        plotter=pl,\n        shape=sampled_bunny,\n        show_edges=True,\n        title=f\".at(ratio={ratio}), {sampled_bunny.n_points:,} points\",\n    )\n\npl.show()"
      ]
    },
    {
      "cell_type": "markdown",
      "metadata": {},
      "source": [
        "Please note that calling the :meth:`~skshapes.multiscaling.multiscale.Multiscale.at` method with an arbitrary ratio\nreturns the most compact (i.e. the coarsest) representation stored\nin the :class:`Multiscale<skshapes.multiscaling.multiscale.Multiscale>` object that is\nat least as detailed as the specified ratio.\n\n"
      ]
    },
    {
      "cell_type": "code",
      "execution_count": null,
      "metadata": {
        "collapsed": false
      },
      "outputs": [],
      "source": [
        "pl = pv.Plotter(shape=(2, 2))\n\nfor i, ratio in enumerate([0.5, 0.1, 0.05, 0.01]):\n    # Use the '.at()' method to access the shape at different scales\n    sampled_bunny = multiscale_bunny.at(ratio=ratio)\n\n    pl.subplot(i // 2, i % 2)\n    sks.doc.display(\n        plotter=pl,\n        shape=sampled_bunny,\n        show_edges=True,\n        title=f\".at(ratio={ratio}), {sampled_bunny.n_points:,} points\",\n    )\n\npl.show()"
      ]
    },
    {
      "cell_type": "markdown",
      "metadata": {},
      "source": [
        "Alternatively, we can use the ``n_points`` parameter to specify the desired\nnumber of points per resolution level.\n\n"
      ]
    },
    {
      "cell_type": "code",
      "execution_count": null,
      "metadata": {
        "collapsed": false
      },
      "outputs": [],
      "source": [
        "multiscale_bunny = sks.Multiscale(shape=bunny, n_points=[3000, 1000, 300, 100])\n\npl = pv.Plotter(shape=(2, 2))\n\nfor i, n_points in enumerate([3000, 1000, 300, 100]):\n    # Use the '.at()' method with the n_points parameter instead of ratio\n    sampled_bunny = multiscale_bunny.at(n_points=n_points)\n\n    pl.subplot(i // 2, i % 2)\n    sks.doc.display(\n        plotter=pl,\n        shape=sampled_bunny,\n        show_edges=True,\n        title=f\".at(n_points={n_points}), {sampled_bunny.n_points:,} points\",\n    )\n\npl.show()"
      ]
    }
  ],
  "metadata": {
    "kernelspec": {
      "display_name": "Python 3",
      "language": "python",
      "name": "python3"
    },
    "language_info": {
      "codemirror_mode": {
        "name": "ipython",
        "version": 3
      },
      "file_extension": ".py",
      "mimetype": "text/x-python",
      "name": "python",
      "nbconvert_exporter": "python",
      "pygments_lexer": "ipython3",
      "version": "3.11.11"
    }
  },
  "nbformat": 4,
  "nbformat_minor": 0
}