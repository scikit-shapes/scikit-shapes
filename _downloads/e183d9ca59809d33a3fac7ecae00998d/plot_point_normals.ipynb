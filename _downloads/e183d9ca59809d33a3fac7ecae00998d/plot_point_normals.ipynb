{
  "cells": [
    {
      "cell_type": "code",
      "execution_count": null,
      "metadata": {
        "collapsed": false
      },
      "outputs": [],
      "source": [
        "%matplotlib inline"
      ]
    },
    {
      "cell_type": "markdown",
      "metadata": {},
      "source": [
        "\n\n# How to compute local point normals\n\nWe use the :meth:`~skshapes.PolyData.point_normals` method to compute normal vectors at each vertex of a triangle mesh. This is useful for estimating the curvature of the surface.\n"
      ]
    },
    {
      "cell_type": "markdown",
      "metadata": {},
      "source": [
        "First, we load the Stanford bunny as a triangle mesh.\n\n"
      ]
    },
    {
      "cell_type": "code",
      "execution_count": null,
      "metadata": {
        "collapsed": false
      },
      "outputs": [],
      "source": [
        "import pyvista as pv\n\nimport skshapes as sks\n\nmesh = sks.PolyData(pv.examples.download_bunny())\n\n# To improve the readability of the figures below, we resample the mesh to have\n# a fixed number of points and normalize it to fit in the unit sphere.\nmesh = mesh.resample(n_points=200).normalize()"
      ]
    },
    {
      "cell_type": "markdown",
      "metadata": {},
      "source": [
        "Then, we compute the point normals.\n\n"
      ]
    },
    {
      "cell_type": "code",
      "execution_count": null,
      "metadata": {
        "collapsed": false
      },
      "outputs": [],
      "source": [
        "normals = mesh.point_normals()\n\nsks.doc.display(\n    title=\"Surface normals\",\n    shape=mesh,\n    vectors=-0.2 * normals,\n    vectors_color=normals.abs(),\n)"
      ]
    },
    {
      "cell_type": "markdown",
      "metadata": {},
      "source": [
        "Then, we compute the point normals.\n\n"
      ]
    },
    {
      "cell_type": "code",
      "execution_count": null,
      "metadata": {
        "collapsed": false
      },
      "outputs": [],
      "source": [
        "pl = pv.Plotter(shape=(2, 2))\n\nfor i, scale in enumerate([0.01, 0.05, 0.1, 0.2]):\n\n    normals = mesh.point_normals(scale=scale)\n\n    pl.subplot(i // 2, i % 2)\n    sks.doc.display(\n        title=f\"Normals at scale {scale:.2f}\",\n        plotter=pl,\n        shape=mesh,\n        vectors=-0.2 * normals,\n        vectors_color=normals.abs(),\n    )\n\npl.show()"
      ]
    },
    {
      "cell_type": "markdown",
      "metadata": {},
      "source": [
        "Then, we compute the point normals.\n\n"
      ]
    },
    {
      "cell_type": "code",
      "execution_count": null,
      "metadata": {
        "collapsed": false
      },
      "outputs": [],
      "source": [
        "points = mesh.to_point_cloud()\nnormals = points.point_normals(scale=0.1)\n\npl = pv.Plotter()\nsks.doc.display(plotter=pl, shape=mesh, opacity=0.3)\nsks.doc.display(\n    plotter=pl,\n    title=\"Point normals\",\n    shape=points,\n    point_size=20,\n    vectors=0.2 * normals,\n    vectors_color=normals.abs(),\n)\npl.show()"
      ]
    }
  ],
  "metadata": {
    "kernelspec": {
      "display_name": "Python 3",
      "language": "python",
      "name": "python3"
    },
    "language_info": {
      "codemirror_mode": {
        "name": "ipython",
        "version": 3
      },
      "file_extension": ".py",
      "mimetype": "text/x-python",
      "name": "python",
      "nbconvert_exporter": "python",
      "pygments_lexer": "ipython3",
      "version": "3.11.11"
    }
  },
  "nbformat": 4,
  "nbformat_minor": 0
}