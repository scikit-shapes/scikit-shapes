{
  "cells": [
    {
      "cell_type": "code",
      "execution_count": null,
      "metadata": {
        "collapsed": false
      },
      "outputs": [],
      "source": [
        "%matplotlib inline"
      ]
    },
    {
      "cell_type": "markdown",
      "metadata": {},
      "source": [
        "\n\n# Multiscaling and landmarks\n\nThe :class:`skshapes.Multiscale<skshapes.multiscaling.multiscale.Multiscale>` class\npreserves landmarks across scales.\n"
      ]
    },
    {
      "cell_type": "code",
      "execution_count": null,
      "metadata": {
        "collapsed": false
      },
      "outputs": [],
      "source": [
        "import pyvista as pv\n\nimport skshapes as sks"
      ]
    },
    {
      "cell_type": "markdown",
      "metadata": {},
      "source": [
        "To demonstrate this, we first load a mesh with a collection of key points.\n\n"
      ]
    },
    {
      "cell_type": "code",
      "execution_count": null,
      "metadata": {
        "collapsed": false
      },
      "outputs": [],
      "source": [
        "mesh = sks.PolyData(pv.examples.download_louis_louvre().clean())\n\nlandmarks = [151807, 21294, 23344, 25789, 131262, 33852, 171465, 191680]\nlandmarks += [172653, 130895, 9743, 19185, 143397, 200885]\n\nmesh.landmark_indices = landmarks"
      ]
    },
    {
      "cell_type": "markdown",
      "metadata": {},
      "source": [
        "Then, we compute a multiscale representation of our mesh\nusing 10%, 1% and 0.1% of the original point count.\n\n"
      ]
    },
    {
      "cell_type": "code",
      "execution_count": null,
      "metadata": {
        "collapsed": false
      },
      "outputs": [],
      "source": [
        "ratios = [1, 0.1, 0.01, 0.001]\nmultiscale = sks.Multiscale(shape=mesh, ratios=ratios)"
      ]
    },
    {
      "cell_type": "markdown",
      "metadata": {},
      "source": [
        "The :attr:`~skshapes.PolyData.landmark_points` and\n:attr:`~skshapes.PolyData.landmark_indices` attributes of the shape\nare transported consistently between the different scales.\n\n"
      ]
    },
    {
      "cell_type": "code",
      "execution_count": null,
      "metadata": {
        "collapsed": false
      },
      "outputs": [],
      "source": [
        "pl = pv.Plotter()\n\npl.open_gif(\"animation.gif\", fps=1)\nfor ratio in ratios:\n    mesh_i = multiscale.at(ratio=ratio)\n    print(f\"with {mesh_i.n_points:,d} points, landmarks = \")\n    print([int(i) for i in mesh_i.landmark_indices])\n\n    pl.clear_actors()\n    sks.doc.display(plotter=pl, shape=mesh_i)\n    sks.doc.display(plotter=pl, shape=mesh_i.landmark_points, color=\"red\")\n    pl.camera_position = \"xz\"\n    pl.camera.zoom(1.4)\n    pl.write_frame()\n\npl.show()"
      ]
    }
  ],
  "metadata": {
    "kernelspec": {
      "display_name": "Python 3",
      "language": "python",
      "name": "python3"
    },
    "language_info": {
      "codemirror_mode": {
        "name": "ipython",
        "version": 3
      },
      "file_extension": ".py",
      "mimetype": "text/x-python",
      "name": "python",
      "nbconvert_exporter": "python",
      "pygments_lexer": "ipython3",
      "version": "3.11.11"
    }
  },
  "nbformat": 4,
  "nbformat_minor": 0
}