{
  "cells": [
    {
      "cell_type": "code",
      "execution_count": null,
      "metadata": {
        "collapsed": false
      },
      "outputs": [],
      "source": [
        "%matplotlib inline"
      ]
    },
    {
      "cell_type": "markdown",
      "metadata": {},
      "source": [
        "\n# Rigid alignment in 3D with landmarks\n\nIn this example, we demonstrate how to perform rigid registration (also known\nalignment) of two 3D meshes. We also show how to improve the registration by\nadding landmarks.\n"
      ]
    },
    {
      "cell_type": "code",
      "execution_count": null,
      "metadata": {
        "collapsed": false
      },
      "outputs": [],
      "source": [
        "import sys\n\nimport pykeops\nimport pyvista as pv\nimport torch\nfrom pyvista import examples\n\nsys.path.append(pykeops.get_build_folder())\n\nimport skshapes as sks\n\ncolor_1 = \"tan\"\ncolor_2 = \"brown\""
      ]
    },
    {
      "cell_type": "markdown",
      "metadata": {},
      "source": [
        "## Load data\n\nWe load two meshes from the `pyvista` example datasets. We then rescale them\nto lie in the unit cube to avoid dealing with scale issues.\n\n"
      ]
    },
    {
      "cell_type": "code",
      "execution_count": null,
      "metadata": {
        "collapsed": false
      },
      "outputs": [],
      "source": [
        "# shape1 = sks.PolyData(examples.download_human())\nshape1 = sks.PolyData(examples.download_woman().rotate_y(90))\nshape2 = sks.PolyData(examples.download_doorman())\nshape1.point_data.clear()\nshape2.point_data.clear()\n\n\ndef bounds(shape):\n    return (\n        torch.max(shape.points, dim=0).values\n        - torch.min(shape.points, dim=0).values\n    )\n\n\nlims1 = bounds(shape1)\nlims2 = bounds(shape2)\nrescale1 = torch.max(lims1)\nshape1.points -= torch.min(shape1.points, dim=0).values\nshape1.points /= rescale1\n\nrescale2 = torch.max(lims2)\nshape2.points -= torch.min(shape2.points, dim=0).values\nshape2.points /= rescale2"
      ]
    },
    {
      "cell_type": "markdown",
      "metadata": {},
      "source": [
        "## Plot the data\nLet us have a look at the two shapes we want to align. Clearly, they are not\naligned and a rigid transformation is needed.\n\n"
      ]
    },
    {
      "cell_type": "code",
      "execution_count": null,
      "metadata": {
        "collapsed": false
      },
      "outputs": [],
      "source": [
        "plotter = pv.Plotter()\nplotter.add_mesh(shape1.to_pyvista(), color=color_1)\nplotter.add_mesh(shape2.to_pyvista(), color=color_2)\n\nplotter.show()"
      ]
    },
    {
      "cell_type": "markdown",
      "metadata": {},
      "source": [
        "## Apply the registration\nWe now apply the registration. The meshes points are not in correspondence\nand we need to use a loss function that can handle this. We use the nearest\nneighbors loss.\nUsing this loss leads to converge to a local minimum, where the shapesa are\naligned upside down.\n\n"
      ]
    },
    {
      "cell_type": "code",
      "execution_count": null,
      "metadata": {
        "collapsed": false
      },
      "outputs": [],
      "source": [
        "loss = sks.NearestNeighborsLoss()\nmodel = sks.RigidMotion()\n\nregistration = sks.Registration(\n    model=model,\n    loss=loss,\n    n_iter=2,\n    verbose=True,\n)  # default optimizer is torch.optim.LBFGS\n\nregistration.fit(source=shape2, target=shape1)\nmorph = registration.transform(source=shape2)\n\nplotter = pv.Plotter()\nplotter.add_mesh(shape1.to_pyvista(), color=color_1)\nplotter.add_mesh(morph.to_pyvista(), color=color_2)\nplotter.show()"
      ]
    },
    {
      "cell_type": "markdown",
      "metadata": {},
      "source": [
        "## Add landmarks\n\nWe now add landmarks to the two shapes. Three landmarks (head, left hand,\nright hand) are enough to greatly improve the registration. If you are running this script locally,\nyou can use the landmark setter application to select the landmarks interactively.\nIf you are seeing this in the gallery, here is a recording of the landmark setter\napplication being used to select the landmarks:\n\n<img src=\"file://../../images/demolandmarks.gif\">\n\n"
      ]
    },
    {
      "cell_type": "code",
      "execution_count": null,
      "metadata": {
        "collapsed": false
      },
      "outputs": [],
      "source": [
        "if not pv.BUILDING_GALLERY:\n    # If not in the gallery, we can use vedo to open the landmark setter\n    # Setting the default backend to vtk is necessary when running in a notebook\n    import vedo\n\n    vedo.settings.default_backend = \"vtk\"\n    sks.LandmarkSetter([shape1, shape2]).start()\nelse:\n    # Set the landmarks manually\n    landmarks1 = [4808, 147742, 1774]\n    landmarks2 = [325, 2116, 1927]\n\n    shape1.landmark_indices = landmarks1\n    shape2.landmark_indices = landmarks2\n\ncolors = [\"red\", \"green\", \"blue\"]\nplotter = pv.Plotter()\nplotter.add_mesh(shape1.to_pyvista(), color=color_1)\nfor i in range(len(shape1.landmark_indices)):\n    plotter.add_points(\n        shape1.landmark_points[i].numpy(),\n        color=colors[i % 3],\n        render_points_as_spheres=True,\n        point_size=25,\n    )\nplotter.add_mesh(shape2.to_pyvista(), color=color_2)\nfor i in range(len(shape2.landmark_indices)):\n    plotter.add_points(\n        shape2.landmark_points[i].numpy(),\n        color=colors[i % 3],\n        render_points_as_spheres=True,\n        point_size=25,\n    )\nplotter.show()"
      ]
    },
    {
      "cell_type": "markdown",
      "metadata": {},
      "source": [
        "## Register again with a loss that includes landmarks\n\nNow the loss is the sum of `NearestNeighborsLoss` and `LandmarkLoss`, the\nmean L2 distance between the landmarks in the two shapes.\nThe registration now converges to a better solution.\n\n"
      ]
    },
    {
      "cell_type": "code",
      "execution_count": null,
      "metadata": {
        "collapsed": false
      },
      "outputs": [],
      "source": [
        "loss_landmarks = sks.NearestNeighborsLoss() + sks.LandmarkLoss()\n\nregistration = sks.Registration(\n    model=model,\n    loss=loss_landmarks,\n    n_iter=2,\n    verbose=True,\n)\n\nregistration.fit(source=shape2, target=shape1)\nmorph = registration.transform(source=shape2)\n\nplotter = pv.Plotter()\nplotter.add_mesh(shape1.to_pyvista(), color=color_1)\nplotter.add_mesh(morph.to_pyvista(), color=color_2)\nplotter.show()"
      ]
    }
  ],
  "metadata": {
    "kernelspec": {
      "display_name": "Python 3",
      "language": "python",
      "name": "python3"
    },
    "language_info": {
      "codemirror_mode": {
        "name": "ipython",
        "version": 3
      },
      "file_extension": ".py",
      "mimetype": "text/x-python",
      "name": "python",
      "nbconvert_exporter": "python",
      "pygments_lexer": "ipython3",
      "version": "3.11.11"
    }
  },
  "nbformat": 4,
  "nbformat_minor": 0
}