{
 "cells": [
  {
   "cell_type": "markdown",
   "id": "4b82d33f-e56b-4504-9e6b-3f326f2ef430",
   "metadata": {},
   "source": [
    "# Arteries planar visualization: demonstration"
   ]
  },
  {
   "cell_type": "markdown",
   "id": "279561d7-b4b3-48a3-b222-0eca807658fc",
   "metadata": {},
   "source": [
    "This is an example code of the article:\n",
    "\n",
    "*Untangling Vascular Trees for Surgery and Interventional Radiology*, G. Houry, T. Boeken, S. Allassonnière and J. Feydy, MICCAI 2025."
   ]
  },
  {
   "cell_type": "markdown",
   "id": "b624cdbb-1197-4d2c-9b2e-c43f376c1acf",
   "metadata": {},
   "source": [
    "## Imports and loading utility"
   ]
  },
  {
   "cell_type": "code",
   "execution_count": 18,
   "id": "initial_id",
   "metadata": {},
   "outputs": [],
   "source": [
    "import skshapes as sks"
   ]
  },
  {
   "cell_type": "code",
   "execution_count": 19,
   "id": "b1b8a65a1b43470d",
   "metadata": {},
   "outputs": [],
   "source": [
    "from backend.viz import plot_graph, plot_branches\n",
    "from backend.graph_processing import *"
   ]
  },
  {
   "cell_type": "code",
   "execution_count": 20,
   "id": "d38c1930-6f6c-4e6b-8984-78c688c30fd0",
   "metadata": {},
   "outputs": [],
   "source": [
    "from backend.tree_creation import compute_edge_lenghts, compute_downstream, reorder_branches, compute_reference_angles\n",
    "\n",
    "from backend.recursive_layout.recursive_layout import recursive_layout\n",
    "from backend.tree_creation import initialize_vascular_tree\n",
    "from backend.force_directed.force_directed import compute_force"
   ]
  },
  {
   "cell_type": "code",
   "execution_count": 21,
   "id": "bbcc89ffa61c79c4",
   "metadata": {},
   "outputs": [],
   "source": [
    "import torch\n",
    "import scipy\n",
    "\n",
    "import nibabel as nib\n",
    "import numpy as np"
   ]
  },
  {
   "cell_type": "code",
   "execution_count": 22,
   "id": "7a53dcd2-9caf-4883-be13-18ff5867b52a",
   "metadata": {},
   "outputs": [],
   "source": [
    "import pyvista as pv\n",
    "\n",
    "pv.set_jupyter_backend([\"trame\", \"static\"][1])\n",
    "pv.global_theme.colorbar_orientation = \"vertical\""
   ]
  },
  {
   "cell_type": "code",
   "execution_count": 23,
   "id": "f655b4dfc9d0ef76",
   "metadata": {},
   "outputs": [],
   "source": [
    "def load_nii(path: str, normalize: bool = True) -> np.ndarray:\n",
    "    image = nib.load(path).get_fdata().astype(np.float32)\n",
    "\n",
    "    if normalize:\n",
    "        image = image / image.max()\n",
    "        image = image[:8 * (image.shape[0] // 8), :8 * (image.shape[1] // 8), : 8 * (image.shape[2] // 8)]\n",
    "\n",
    "    return image"
   ]
  },
  {
   "cell_type": "markdown",
   "id": "8769dc97-c5d9-4b16-9860-56e7ccac1dc1",
   "metadata": {},
   "source": [
    "## Preprocessing"
   ]
  },
  {
   "cell_type": "markdown",
   "id": "8378a17b-161a-4bc0-91c0-bdda867987bd",
   "metadata": {},
   "source": [
    "In this step, we transform a raw CT Scan in a tree structure exploitable by our algorithm."
   ]
  },
  {
   "cell_type": "code",
   "execution_count": 24,
   "id": "e79f3f4e5575f9ac",
   "metadata": {},
   "outputs": [],
   "source": [
    "data_path = 'normalized_001.nii.gz'\n",
    "device = 'cuda' if torch.cuda.is_available() else 'cpu'"
   ]
  },
  {
   "cell_type": "code",
   "execution_count": 40,
   "id": "eb89246979eb0851",
   "metadata": {},
   "outputs": [],
   "source": [
    "def cube_offsets(radius, device=None):\n",
    "    window = torch.arange(-radius, radius + 1, device=device)\n",
    "    return torch.stack(torch.meshgrid(window, window, window, indexing='xy'), dim=-1).reshape(-1, 3)\n",
    "\n",
    "def preprocessing(data_path):\n",
    "    # Load the original image\n",
    "    raw_image = sks.Image(load_nii(data_path), dtype=torch.float32, device=device)\n",
    "\n",
    "    # Segment and skeletonize the vessels of the image using simple filters\n",
    "    hysteresis_mask = sks.images.filters.hysteresis_threshold(raw_image, low=17 / 255, high=30 / 255)\n",
    "    signed_radii = sks.images.filters.signed_distance_transform(hysteresis_mask, dilation=3)\n",
    "    vessel_mask = sks.images.filters.frangi_filter(signed_radii, alpha=0.1, beta=0.5, gamma=0.9, smoothing=1)\n",
    "    skeleton = sks.images.filters.skeletonize(vessel_mask)\n",
    "\n",
    "    # Extract the adjacency matrix of the skeleton and the 3D position of the vertices\n",
    "    pos, adjmatrix = sks.images.filters.skeleton_to_graph(skeleton)\n",
    "\n",
    "    # Smooth the positions to avoid voxelization artifacts\n",
    "    pos = laplacian_smoothing(pos.astype(np.float32), adjmatrix.astype(int), iters=10)\n",
    "\n",
    "    # Estimate the radius at each position robustly by applying a max_pool around the new positions \n",
    "    intpos = pos.round().astype(np.int64)\n",
    "    mask = sks.Mask(indices=intpos, shape=signed_radii.shape, device=signed_radii.device)\n",
    "    radius = signed_radii.masked_convolution(mask=mask, offsets=cube_offsets(radius=3, device=skeleton.device), kernel='max')\n",
    "    radius = radius.values_at(query_indices=torch.tensor(intpos, device=radius.device)).clip(min=0.1)\n",
    "\n",
    "    # Get the voxel intensity of the initial image at the new positions\n",
    "    intensity = raw_image.values_at(query_indices=intpos)\n",
    "\n",
    "    # Scale the radii of subpixel vessels by the image intensity, in order to refine the radius estimation for small vessels\n",
    "    small_radii = radius < 1\n",
    "    radius[small_radii] = radius[small_radii] * intensity[small_radii] / intensity[small_radii].max()\n",
    "\n",
    "    # Remove the nodes whose intensity is too small (to reduce sources of noise)\n",
    "    filter = intensity.cpu().numpy() > 0.05\n",
    "    adjmatrix = adjmatrix[filter, :][:, filter]\n",
    "    features = {'pos': pos[filter], 'radius': radius.cpu().numpy()[filter], 'intensity': intensity.cpu().numpy()[filter]}\n",
    "\n",
    "    # Choose the root of the tree\n",
    "    root = graph_root(adjmatrix, features)\n",
    "\n",
    "    # Merge the relevant disconnected components to the root\n",
    "    adjmatrix = merge_components_to_root(adjmatrix, features, root)\n",
    "\n",
    "    # Smooth the radii along the vessels\n",
    "    features[\"radius\"] = smooth_val(features[\"radius\"], adjmatrix, iters=5)\n",
    "\n",
    "    # Remove the topological artifacts of the graph\n",
    "    adjmatrix, tree_features, root = keep_largest_component(adjmatrix, features, root)\n",
    "    tree_adjmatrix = remove_cycles(adjmatrix, tree_features, root)\n",
    "\n",
    "    tree_features = {'pos': tree_features['pos'], 'radius': tree_features['radius']}    \n",
    "    return tree_adjmatrix, tree_features, root"
   ]
  },
  {
   "cell_type": "code",
   "execution_count": 41,
   "id": "1a0e8d37006d8567",
   "metadata": {},
   "outputs": [],
   "source": [
    "tree_adjmatrix, tree_features, root = preprocessing(data_path)"
   ]
  },
  {
   "cell_type": "code",
   "id": "00f70f61-f3cd-4ccc-8813-1bf2e7f79d1c",
   "metadata": {},
   "source": [
    "plot_graph(pos=tree_features['pos'], adjmatrix=tree_adjmatrix, radius=tree_features['radius'], colors=tree_features['radius'],cmap=\"Reds\").show()"
   ],
   "outputs": [],
   "execution_count": null
  },
  {
   "cell_type": "markdown",
   "id": "b75c2525-14b3-42a6-aa51-4ab6ea244221",
   "metadata": {},
   "source": [
    "## Embedding algorithm"
   ]
  },
  {
   "cell_type": "markdown",
   "id": "ddcb5d7c-39de-4bae-9b71-3a7b36710302",
   "metadata": {},
   "source": [
    "The embedding algorithm takes as input:\n",
    "\n",
    "- ``tree_adjmatrix``, a ``scipy.sparse.csr_matrix`` of bools of shape ``(n_vertices, n_vertices)`` encoding the input directed tree;\n",
    "- ``features``, a dict with keys ``pos`` and ``radius``:\n",
    "    - ``features['pos']`` is a ``np.ndarray`` of shape ``(n_vertices, 3)`` containing the 3D positions of the tree vertices;\n",
    "    - ``features['radius']`` is a ``np.ndarray`` of shape ``(n_vertices,)`` containing the radius of the vessels at each vertex.\n",
    "- ``root``, an integer between ``0`` and ``n_vertices`` specifying the index of the tree root."
   ]
  },
  {
   "cell_type": "code",
   "execution_count": 43,
   "id": "940f4c2c-9f46-496c-9793-3ced7f534e92",
   "metadata": {},
   "outputs": [
    {
     "name": "stdout",
     "output_type": "stream",
     "text": [
      "<Compressed Sparse Row sparse matrix of dtype 'bool'\n",
      "\twith 21162 stored elements and shape (21163, 21163)>\n",
      "  Coords\tValues\n",
      "  (1, 11)\tTrue\n",
      "  (2, 13)\tTrue\n",
      "  (3, 2)\tTrue\n",
      "  (4, 3)\tTrue\n",
      "  (5, 4)\tTrue\n",
      "  (6, 5)\tTrue\n",
      "  (7, 6)\tTrue\n",
      "  (8, 14)\tTrue\n",
      "  (9, 0)\tTrue\n",
      "  (10, 19)\tTrue\n",
      "  (11, 10)\tTrue\n",
      "  (12, 1)\tTrue\n",
      "  (13, 12)\tTrue\n",
      "  (14, 7)\tTrue\n",
      "  (15, 8)\tTrue\n",
      "  (16, 9)\tTrue\n",
      "  (18, 29)\tTrue\n",
      "  (19, 18)\tTrue\n",
      "  (20, 15)\tTrue\n",
      "  (21, 20)\tTrue\n",
      "  (22, 21)\tTrue\n",
      "  (23, 22)\tTrue\n",
      "  (24, 17)\tTrue\n",
      "  (25, 16)\tTrue\n",
      "  (27, 43)\tTrue\n",
      "  :\t:\n",
      "  (21136, 21141)\tTrue\n",
      "  (21137, 21143)\tTrue\n",
      "  (21138, 21144)\tTrue\n",
      "  (21139, 21133)\tTrue\n",
      "  (21140, 21131)\tTrue\n",
      "  (21141, 21146)\tTrue\n",
      "  (21141, 21147)\tTrue\n",
      "  (21143, 21148)\tTrue\n",
      "  (21144, 21149)\tTrue\n",
      "  (21145, 21140)\tTrue\n",
      "  (21146, 21145)\tTrue\n",
      "  (21146, 21151)\tTrue\n",
      "  (21147, 21142)\tTrue\n",
      "  (21148, 21152)\tTrue\n",
      "  (21149, 21150)\tTrue\n",
      "  (21150, 21154)\tTrue\n",
      "  (21151, 21156)\tTrue\n",
      "  (21152, 21153)\tTrue\n",
      "  (21153, 21157)\tTrue\n",
      "  (21154, 21155)\tTrue\n",
      "  (21157, 21158)\tTrue\n",
      "  (21158, 21159)\tTrue\n",
      "  (21159, 21160)\tTrue\n",
      "  (21160, 21161)\tTrue\n",
      "  (21161, 21162)\tTrue\n"
     ]
    }
   ],
   "source": [
    "print(tree_adjmatrix)"
   ]
  },
  {
   "cell_type": "code",
   "execution_count": 47,
   "id": "44f6a2aa-1e8d-4fc2-9ccb-27589d76eef5",
   "metadata": {},
   "outputs": [
    {
     "name": "stdout",
     "output_type": "stream",
     "text": [
      "dict_keys(['pos', 'radius'])\n",
      "(21163, 3) (21163,)\n"
     ]
    }
   ],
   "source": [
    "print(tree_features.keys())\n",
    "print(tree_features['pos'].shape, tree_features['radius'].shape)"
   ]
  },
  {
   "cell_type": "code",
   "execution_count": 48,
   "id": "b792197f-24aa-48d6-8fd3-d6498197bc32",
   "metadata": {},
   "outputs": [
    {
     "name": "stdout",
     "output_type": "stream",
     "text": [
      "12957\n"
     ]
    }
   ],
   "source": [
    "print(root)"
   ]
  },
  {
   "cell_type": "code",
   "execution_count": 49,
   "id": "1018fb5a-f4df-49e8-a7b1-3ddd0c7b2ef1",
   "metadata": {},
   "outputs": [],
   "source": [
    "def embed_vascular_tree(tree_adjmatrix, features, root):\n",
    "    features[\"radius\"] = features[\"radius\"][:,None]\n",
    "\n",
    "    # Initialize the tree data structure\n",
    "    tree = initialize_vascular_tree(tree_adjmatrix, features, root, pruning=20, internal_pruning=3)\n",
    "\n",
    "    # Compute different useful features \n",
    "    tree = compute_edge_lenghts(tree)\n",
    "    tree = compute_downstream(tree)\n",
    "\n",
    "    # Compute the target angles parameters (corresponding to the true angular curvatures). \n",
    "    tree = reorder_branches(tree, scores=- tree.features[\"downstream_barycenter\"][:, 0])\n",
    "    tree = compute_reference_angles(tree, priority=tree.features[\"downstream_volume\"], smoothing=15)\n",
    "\n",
    "    # The 'importance' feature determines the space given to each subtesselation at each recursive step\n",
    "    tree.coarse_features[\"importance\"] = tree.features[\"downstream_volume\"][tree.bifurcations().flatten()]\n",
    "\n",
    "    # Initialize features for the recursive layout\n",
    "    tree.features[\"bounds\"] = np.zeros(shape=(tree.coarse_size, 2))\n",
    "    tree.features[\"angle\"] = np.zeros(shape=(tree.size, 1))\n",
    "    tree.features[\"emb\"] = np.zeros(shape=(tree.size, 2))\n",
    "    \n",
    "    tree, anchors = recursive_layout(tree, smoothing=10)\n",
    "    tree = compute_force(tree, iters=300, alpha=25, beta=5e-5, gamma=0.4, sigma=200, mu=1, momentum=0., clip=0.01)\n",
    "    \n",
    "    return tree"
   ]
  },
  {
   "cell_type": "code",
   "execution_count": 32,
   "id": "690ac930-fcad-4c30-be7c-414fbf537be8",
   "metadata": {},
   "outputs": [],
   "source": [
    "tree = embed_vascular_tree(tree_adjmatrix, tree_features, root)"
   ]
  },
  {
   "cell_type": "markdown",
   "id": "ea726363-cf03-4118-be04-dad35653e9b9",
   "metadata": {},
   "source": [
    "The final embeddings are contained in ``tree.features['emb']``, the initial positions in ``tree.features['pos']``:"
   ]
  },
  {
   "cell_type": "code",
   "id": "1fb2139e-4c5a-48b5-ac78-37a55312fefd",
   "metadata": {},
   "source": [
    "pl = pv.Plotter(border=None, window_size = (1700, 2000))\n",
    "\n",
    "plot_branches(tree.branches(), tree.features[\"pos\"], pl=pl, radius=1.2*tree.features[\"radius\"]**0.9, \n",
    "                  colors=tree.features[\"radius\"], cmap=\"Reds\", clim=(0,5), show_scalar_bar=False)\n",
    "pl.show()"
   ],
   "outputs": [],
   "execution_count": null
  },
  {
   "cell_type": "code",
   "id": "c1c01189-68a9-40a7-98fd-351c5f2b7f1f",
   "metadata": {},
   "source": [
    "pl = pv.Plotter(border=None, window_size = (4300, 3600))\n",
    "\n",
    "plot_branches(tree.branches(), tree.features[\"emb\"], pl=pl, radius=1.2*tree.features[\"radius\"]**0.9, \n",
    "                  colors=tree.features[\"radius\"], cmap=\"Reds\", clim=(0,5), show_scalar_bar=False)\n",
    "\n",
    "pl.camera.zoom(1.05)\n",
    "pl.show()"
   ],
   "outputs": [],
   "execution_count": null
  }
 ],
 "metadata": {
  "kernelspec": {
   "display_name": "Python 3 (ipykernel)",
   "language": "python",
   "name": "python3"
  },
  "language_info": {
   "codemirror_mode": {
    "name": "ipython",
    "version": 3
   },
   "file_extension": ".py",
   "mimetype": "text/x-python",
   "name": "python",
   "nbconvert_exporter": "python",
   "pygments_lexer": "ipython3",
   "version": "3.13.0"
  }
 },
 "nbformat": 4,
 "nbformat_minor": 5
}
